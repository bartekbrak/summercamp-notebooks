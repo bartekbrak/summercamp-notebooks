{
 "cells": [
  {
   "cell_type": "markdown",
   "metadata": {},
   "source": [
    "# OOP Basics\n",
    "\n",
    "### Paweł \n",
    "\n",
    "Date: Tuesday, 7 June 2015, day 2nd.\n",
    "Duration: 2h\n",
    "\n",
    "### Agenda:\n",
    "- 13:30 - 13:40 - Set-up, make sure you have tools installed.\n",
    "- 13:40 - 14:40 - The theory behind Object Oriented Programming.\n",
    "- 14:40 - 14:50 - Short break, please be back on time.\n",
    "- 14:50 - 15:30 - Exercices.\n",
    "\n",
    "### Objectives:\n",
    "- What is OOP and how it effects Python?\n",
    "- How to design applications based on objects.\n",
    "- Get to know how to work with classes, objects and methods.\n",
    "\n",
    "###URLs:\n",
    "- http://goo.gl/bo23uF - python from scrath (oop)\n",
    "- http://goo.gl/xMSRoo - introduction to oop"
   ]
  },
  {
   "cell_type": "markdown",
   "metadata": {},
   "source": [
    "# Procedural programming\n",
    "\n",
    "Divides your program into reusable chunks called procedures or functions.\n",
    "\n",
    "As much as possible you try to keep your code in these modular chunks - using logic to decide which chunk is called. This makes it less mental strain to visualise what your program is doing. \n",
    "\n",
    "The procedural style of programming maintains a strict separation between your code and your data.\n",
    "\n",
    "You have variables, which contain your data, and procedures. You pass your variables to your procedures - which act on them and perhaps modify them. The main program is readable from top to bottom, function after function, procedure after procedure that usually are connected to each other logically and has to be run in a certain order."
   ]
  },
  {
   "cell_type": "code",
   "execution_count": 4,
   "metadata": {
    "collapsed": false
   },
   "outputs": [
    {
     "name": "stdout",
     "output_type": "stream",
     "text": [
      "Volvo 1\n"
     ]
    }
   ],
   "source": [
    "car = 'Volvo'\n",
    "car_started = False\n",
    "gear = 0\n",
    "\n",
    "def start_a_car(car):\n",
    "    return True\n",
    "\n",
    "def gear_up(car, gear):\n",
    "    return gear + 1\n",
    "\n",
    "car_started = start_a_car(car)\n",
    "if car_started:\n",
    "    gear = gear_up(car, gear)\n",
    "\n",
    "print car, gear"
   ]
  },
  {
   "cell_type": "markdown",
   "metadata": {},
   "source": [
    "# What is object?\n",
    "\n",
    "Objects and OOP are at the heart of the way Python works. You aren't forced to use the OOP paradigm in your programs - but understanding the concepts is essential to becoming anything more than a beginner. Not least because you will need to use the classes and objects provided in the standard library.\n",
    "\n",
    "Calling elements of our programs objects is a metaphor. In Python the basic elements of programming are things like strings, dictionaries, integers, functions, and so on are objects. This means they have certain things in common.\n",
    "\n",
    "For instance every string object has a standard set of methods - some of which you've probably already used. Python uses the dot syntax to access attributes of objects:\n",
    "\n"
   ]
  },
  {
   "cell_type": "code",
   "execution_count": 8,
   "metadata": {
    "collapsed": false,
    "scrolled": true
   },
   "outputs": [
    {
     "name": "stdout",
     "output_type": "stream",
     "text": [
      "['', '', 'this', 'is', 'a', 'string', '', '']\n",
      "this is a string\n",
      "THIS IS A STRING\n"
     ]
    }
   ],
   "source": [
    "text = '  this is a string  '\n",
    "print text.split(' ')\n",
    "print text.strip()\n",
    "print text.upper().strip()"
   ]
  },
  {
   "cell_type": "markdown",
   "metadata": {},
   "source": [
    "So every string is actually a string object - and has all the methods of a string object. In Python terminology we say that all strings are of the string type."
   ]
  },
  {
   "cell_type": "code",
   "execution_count": 10,
   "metadata": {
    "collapsed": false
   },
   "outputs": [
    {
     "name": "stdout",
     "output_type": "stream",
     "text": [
      "<type 'str'>\n"
     ]
    }
   ],
   "source": [
    "text = '  this is a string  '\n",
    "print type(text)"
   ]
  },
  {
   "cell_type": "markdown",
   "metadata": {},
   "source": [
    "To conclude - in Python everything is an object: a string, an integer, a function and even a type is an object.\n",
    "\n"
   ]
  },
  {
   "cell_type": "markdown",
   "metadata": {},
   "source": [
    "# Getting started with OOP\n",
    "\n",
    "First thing we should do when we’re going for an OOP approach is to define the objects we’re going to be using. The way we do this is to first define the properties that it possesses using a class. You can think of a class as a sort of template; a guide for the way an object should be structured. Each object belongs to a class and inherits the properties of that class, but acts individually to the other objects of that class.\n",
    "An object is sometimes referred to as an \"instance\" of a class.\n",
    "\n",
    "## Defining a class\n",
    "\n",
    "To define a class, in typical simple Python fashion, we use the word ‘class,’ followed by the name of your new class.\n",
    "\n"
   ]
  },
  {
   "cell_type": "code",
   "execution_count": 11,
   "metadata": {
    "collapsed": true
   },
   "outputs": [],
   "source": [
    "class Car(object):\n",
    "    pass"
   ]
  },
  {
   "cell_type": "markdown",
   "metadata": {},
   "source": [
    "So now we’ve got a class, but it’s rather useless without anything in it. To start, let’s give it a couple of properties. To do this, you simply define some variables inside the class. You should always name your variables so that it’s easy to tell what they are."
   ]
  },
  {
   "cell_type": "code",
   "execution_count": 12,
   "metadata": {
    "collapsed": true
   },
   "outputs": [],
   "source": [
    "class Car(object):\n",
    "    \n",
    "    name = 'Volvo'\n",
    "    gear = 0"
   ]
  },
  {
   "cell_type": "markdown",
   "metadata": {},
   "source": [
    "## Instances and member variables\n",
    "\n",
    "A class on its own isn’t something you can directly manipulate; first, we have to create an instance of the class to play with. We can store that instance in a variable.\n",
    "\n"
   ]
  },
  {
   "cell_type": "code",
   "execution_count": 29,
   "metadata": {
    "collapsed": false
   },
   "outputs": [
    {
     "name": "stdout",
     "output_type": "stream",
     "text": [
      "Volvo\n",
      "Gear: 0\n",
      "Gear: 10\n"
     ]
    }
   ],
   "source": [
    "car = Car()\n",
    "print car.name\n",
    "print \"Gear: \" + str(car.gear)\n",
    "car.gear = 10\n",
    "print \"Gear: \" + str(car.gear)"
   ]
  },
  {
   "cell_type": "markdown",
   "metadata": {},
   "source": [
    "## Initializing our object and using \"self\"\n",
    "\n",
    "There is a special method that allows us to set up initial values for attributes of our object. That way our parameters becomes instance attributes, not class attributes. Instance attributes are owned by the specific instances of a class. This means for two different instances the instance attributes are usually different. \n",
    "The method that sets up the class is called constructor:\n"
   ]
  },
  {
   "cell_type": "code",
   "execution_count": 31,
   "metadata": {
    "collapsed": false
   },
   "outputs": [],
   "source": [
    "class Car(object):\n",
    "    \n",
    "    def __init__(self, name):\n",
    "        self.name = name\n",
    "        self.gear = 0"
   ]
  },
  {
   "cell_type": "markdown",
   "metadata": {},
   "source": [
    "self variable will represent this particular instance of a class Car\n",
    "\n",
    "## Introducing Logic\n",
    "\n",
    "Methods, essentially, are functions contained within a class. You define one in exactly the same way as you would a function, but the difference is that you put it inside a class, and it belongs to that class. If you ever want to call that method, you have to reference an object of that class first, just like the variables we were looking at previously."
   ]
  },
  {
   "cell_type": "code",
   "execution_count": 33,
   "metadata": {
    "collapsed": false
   },
   "outputs": [
    {
     "name": "stdout",
     "output_type": "stream",
     "text": [
      "My name is: Volvo\n"
     ]
    }
   ],
   "source": [
    "class Car(object):\n",
    "    \n",
    "    def __init__(self, name):\n",
    "        self.name = name\n",
    "        self.gear = 0\n",
    "        \n",
    "    def print_my_name(self):\n",
    "        print \"My name is: \" + self.name\n",
    "                \n",
    "car = Car(\"Volvo\")\n",
    "car.print_my_name()"
   ]
  },
  {
   "cell_type": "markdown",
   "metadata": {},
   "source": [
    "Now, let's mix up some instance attributes with class attributes and add shifting gear methods."
   ]
  },
  {
   "cell_type": "code",
   "execution_count": 61,
   "metadata": {
    "collapsed": false
   },
   "outputs": [
    {
     "name": "stdout",
     "output_type": "stream",
     "text": [
      "Initial gear value: 0\n",
      "First shift up: 1\n",
      "Second shift up: 2\n",
      "Third shift up: 3\n",
      "Fourth shift up: 4\n",
      "Fifth shift up: 5\n",
      "Sixth shift up: 5\n",
      "Three times gear down: 2\n"
     ]
    }
   ],
   "source": [
    "class Car(object):\n",
    "    \n",
    "    MAX_GEAR = 5\n",
    "    \n",
    "    def __init__(self, name):\n",
    "        self.name = name\n",
    "        self.gear = 0\n",
    "        \n",
    "    def print_my_name(self):\n",
    "        print \"My name is: \" + self.name\n",
    "        \n",
    "    def gear_up(self):\n",
    "        if self.gear < self.MAX_GEAR:\n",
    "            self.gear += 1\n",
    "            \n",
    "    def gear_down(self):\n",
    "        if self.gear > 0:\n",
    "            self.gear -= 1\n",
    "            \n",
    "car = Car(\"Audi\")\n",
    "print \"Initial gear value: \" + str(car.gear)\n",
    "car.gear_up()\n",
    "print \"First shift up: \" + str(car.gear)\n",
    "car.gear_up()\n",
    "print \"Second shift up: \" + str(car.gear)\n",
    "car.gear_up()\n",
    "print \"Third shift up: \" + str(car.gear)\n",
    "car.gear_up()\n",
    "print \"Fourth shift up: \" + str(car.gear)\n",
    "car.gear_up()\n",
    "print \"Fifth shift up: \" + str(car.gear)\n",
    "car.gear_up()\n",
    "print \"Sixth shift up: \" + str(car.gear)\n",
    "car.gear_down()\n",
    "car.gear_down()\n",
    "car.gear_down()\n",
    "print \"Three times gear down: \" + str(car.gear)"
   ]
  },
  {
   "cell_type": "markdown",
   "metadata": {},
   "source": [
    "# Some More Advanced Features\n",
    "\n",
    "## Inheritance\n",
    "\n",
    "Inheritance is the process of making a new class based around a parent class.\n"
   ]
  },
  {
   "cell_type": "code",
   "execution_count": 66,
   "metadata": {
    "collapsed": false
   },
   "outputs": [
    {
     "name": "stdout",
     "output_type": "stream",
     "text": [
      "Volvo 3\n",
      "Audi 2\n"
     ]
    }
   ],
   "source": [
    "class Car(object):\n",
    "    \n",
    "    MAX_GEAR = 5\n",
    "    \n",
    "    def __init__(self, name):\n",
    "        self.name = name\n",
    "        self.gear = 0\n",
    "        \n",
    "    def gear_up(self):\n",
    "        if self.gear < self.MAX_GEAR:\n",
    "            self.gear += 1\n",
    "            \n",
    "    def gear_down(self):\n",
    "        if self.gear > 0:\n",
    "            self.gear -= 1\n",
    "            \n",
    "    def current_gear(self):\n",
    "        print self.name + \" \" + str(self.gear)\n",
    "            \n",
    "class Volvo(Car):\n",
    "    \n",
    "    MAX_GEAR = 3\n",
    "    \n",
    "    def __init__(self):\n",
    "        super(Volvo, self).__init__(\"Volvo\")\n",
    "    \n",
    "    \n",
    "class Audi(Car):\n",
    "    \n",
    "    MAX_GEAR = 2\n",
    "    \n",
    "    def __init__(self):\n",
    "        super(Audi, self).__init__(\"Audi\")\n",
    "    \n",
    "    \n",
    "volvo = Volvo()\n",
    "audi = Audi()\n",
    "\n",
    "for _ in xrange(10):\n",
    "    volvo.gear_up()\n",
    "    audi.gear_up()\n",
    "\n",
    "volvo.current_gear()\n",
    "audi.current_gear()"
   ]
  },
  {
   "cell_type": "markdown",
   "metadata": {},
   "source": [
    "## __str__  method\n",
    "\n",
    "If you apply str  to an object, Python is looking for a corresponding method __str__ in the class definition of the object. If the method does exist, it will be called. "
   ]
  },
  {
   "cell_type": "code",
   "execution_count": 67,
   "metadata": {
    "collapsed": false
   },
   "outputs": [
    {
     "name": "stdout",
     "output_type": "stream",
     "text": [
      "<__main__.Audi object at 0x7f1f940a6910>\n",
      "I am Cinquecento\n"
     ]
    }
   ],
   "source": [
    "class Cinquecento(Car):\n",
    "    \n",
    "    MAX_GEAR = 2\n",
    "    \n",
    "    def __init__(self):\n",
    "        super(Cinquecento, self).__init__(\"Cinquecento\")\n",
    "        \n",
    "    def __str__(self):\n",
    "        return \"I am \" + self.name\n",
    "        \n",
    "audi = Audi()\n",
    "cinquecento = Cinquecento()\n",
    "print audi\n",
    "print cinquecento"
   ]
  },
  {
   "cell_type": "markdown",
   "metadata": {},
   "source": [
    "## Public, protected  and private attributes\n",
    "\n",
    "* Private attributes should only be used by the owner, i.e. inside of the class definition itself.\n",
    "* Protected (restricted) Attributes may be used, but at your own risk. Essentially, this means that they should only be used under certain conditions.\n",
    "* Public Attributes can and should be freely used.\n",
    "\n",
    "Python uses a special naming scheme for attributes to control the accessibility of the attributes. \n"
   ]
  },
  {
   "cell_type": "code",
   "execution_count": 69,
   "metadata": {
    "collapsed": false
   },
   "outputs": [
    {
     "name": "stdout",
     "output_type": "stream",
     "text": [
      "My VIN is: JSKC12313\n"
     ]
    },
    {
     "ename": "AttributeError",
     "evalue": "'Toyota' object has no attribute '__vin'",
     "output_type": "error",
     "traceback": [
      "\u001b[1;31m---------------------------------------------------------------------------\u001b[0m",
      "\u001b[1;31mAttributeError\u001b[0m                            Traceback (most recent call last)",
      "\u001b[1;32m<ipython-input-69-eec13def59cb>\u001b[0m in \u001b[0;36m<module>\u001b[1;34m()\u001b[0m\n\u001b[0;32m     12\u001b[0m \u001b[0mtoyota\u001b[0m \u001b[1;33m=\u001b[0m \u001b[0mToyota\u001b[0m\u001b[1;33m(\u001b[0m\u001b[1;33m)\u001b[0m\u001b[1;33m\u001b[0m\u001b[0m\n\u001b[0;32m     13\u001b[0m \u001b[0mtoyota\u001b[0m\u001b[1;33m.\u001b[0m\u001b[0mwhats_my_vin\u001b[0m\u001b[1;33m(\u001b[0m\u001b[1;33m)\u001b[0m\u001b[1;33m\u001b[0m\u001b[0m\n\u001b[1;32m---> 14\u001b[1;33m \u001b[1;32mprint\u001b[0m \u001b[0mtoyota\u001b[0m\u001b[1;33m.\u001b[0m\u001b[0m__vin\u001b[0m\u001b[1;33m\u001b[0m\u001b[0m\n\u001b[0m\u001b[0;32m     15\u001b[0m \u001b[1;33m\u001b[0m\u001b[0m\n",
      "\u001b[1;31mAttributeError\u001b[0m: 'Toyota' object has no attribute '__vin'"
     ]
    }
   ],
   "source": [
    "class Toyota(Car):\n",
    "    \n",
    "    def __init__(self):\n",
    "        self.colour = \"Red\"       #public attribute\n",
    "        self._max_speed = 220     #protected attribute\n",
    "        self.__vin = \"JSKC12313\"  #private attribute\n",
    "        super(Toyota, self).__init__(\"Toyota\")\n",
    "        \n",
    "    def whats_my_vin(self):\n",
    "        print \"My VIN is: \" + self.__vin\n",
    "    \n",
    "toyota = Toyota()\n",
    "toyota.whats_my_vin()\n",
    "print toyota.__vin\n",
    "    "
   ]
  },
  {
   "cell_type": "markdown",
   "metadata": {},
   "source": [
    "## Destructor\n",
    "\n",
    "There is no \"real\" destructor, but something similar, i.e. the method __del__. It is called when the instance is about to be destroyed and if there is no other reference to this instance. \n"
   ]
  },
  {
   "cell_type": "code",
   "execution_count": 70,
   "metadata": {
    "collapsed": false
   },
   "outputs": [
    {
     "name": "stdout",
     "output_type": "stream",
     "text": [
      "Car has been destroyed\n"
     ]
    }
   ],
   "source": [
    "class CarToWreck(Car):\n",
    "    \n",
    "    def __del__(self):\n",
    "        print (\"Car has been destroyed\")\n",
    "        \n",
    "car = CarToWreck(\"Mazda\")\n",
    "del car"
   ]
  },
  {
   "cell_type": "markdown",
   "metadata": {},
   "source": [
    "# Excercise\n",
    "\n",
    "Let's write a typical OOP script that calculates some stuff for geometrical figures.\n"
   ]
  },
  {
   "cell_type": "code",
   "execution_count": null,
   "metadata": {
    "collapsed": true
   },
   "outputs": [],
   "source": []
  }
 ],
 "metadata": {
  "kernelspec": {
   "display_name": "Python 2",
   "language": "python",
   "name": "python2"
  },
  "language_info": {
   "codemirror_mode": {
    "name": "ipython",
    "version": 2
   },
   "file_extension": ".py",
   "mimetype": "text/x-python",
   "name": "python",
   "nbconvert_exporter": "python",
   "pygments_lexer": "ipython2",
   "version": "2.7.6"
  }
 },
 "nbformat": 4,
 "nbformat_minor": 0
}
