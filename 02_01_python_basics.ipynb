{
 "cells": [
  {
   "cell_type": "markdown",
   "metadata": {},
   "source": [
    "# Python basics\n",
    "\n",
    "### Bartek \n",
    "\n",
    "### Objectives:\n",
    "- understand how much Python you know already\n",
    "- fill in some tiny gaps\n",
    "\n",
    "### URLs:\n",
    "- https://docs.python.org/2/ - offical documentation\n",
    "- https://www.fullstackpython.com/ - you know Python, now what, a rich source on things Python and beyond\n",
    "- www.reddit.com/r/Python - your Python news and discussions, moderate usefulness\n",
    "- http://www.pythonweekly.com/ - supposedly useful bits weekly bits about Python\n",
    "- https://docs.python.org/2/library/string.html#format-examples -  string formatting, used a lot\n",
    "some tools:\n",
    "- https://pip.pypa.io/en/stable/ - PIP is major pain, devs avoid its documentation, that's why\n",
    "- https://virtualenvwrapper.readthedocs.org/ - makes your life with virtualenvs easier \n"
   ]
  },
  {
   "cell_type": "markdown",
   "metadata": {},
   "source": [
    "# Concept checking questions and trivia\n",
    "what's the difference?"
   ]
  },
  {
   "cell_type": "code",
   "execution_count": null,
   "metadata": {
    "collapsed": false
   },
   "outputs": [],
   "source": [
    "print 'Abysmal spaghetti'\n",
    "print 'Abysmal spaghetti',\n",
    "print 'Abysmal', 'spaghetti'\n",
    "print('Abysmal spaghetti')"
   ]
  },
  {
   "cell_type": "code",
   "execution_count": null,
   "metadata": {
    "collapsed": false
   },
   "outputs": [],
   "source": [
    "# math operator are all obvious, but...\n",
    "print 5 / 2  # Integer division results in integers. Note this is different in Python 3.x!!\n",
    "print 5 / 2.0  # Float division\n",
    "print 5 % 2  # modulus (remainder after division)\n",
    "print 5 // 2 # in Python 2 this basically useless, in 3: http://stackoverflow.com/a/1535601"
   ]
  },
  {
   "cell_type": "markdown",
   "metadata": {},
   "source": [
    "##### Warning about Floating Point Equality\n",
    "Precision issues can lead to seemingly strange results (again, this is the same in any modern programming language)"
   ]
  },
  {
   "cell_type": "code",
   "execution_count": null,
   "metadata": {
    "collapsed": false
   },
   "outputs": [],
   "source": [
    "0.1 + 0.2 == 0.3"
   ]
  },
  {
   "cell_type": "markdown",
   "metadata": {},
   "source": [
    "A nice trick that other languages can't do:"
   ]
  },
  {
   "cell_type": "code",
   "execution_count": null,
   "metadata": {
    "collapsed": false
   },
   "outputs": [],
   "source": [
    "x, y = 4, 50\n",
    "print x\n",
    "print y "
   ]
  },
  {
   "cell_type": "code",
   "execution_count": null,
   "metadata": {
    "collapsed": false
   },
   "outputs": [],
   "source": [
    "x, y = y, x  # easy swap!\n",
    "print x\n",
    "print y "
   ]
  },
  {
   "cell_type": "markdown",
   "metadata": {},
   "source": [
    "Each operator has an operate-and-assign version"
   ]
  },
  {
   "cell_type": "code",
   "execution_count": null,
   "metadata": {
    "collapsed": false
   },
   "outputs": [],
   "source": [
    "x = 4\n",
    "x += 8  # same as x = x + 8\n",
    "print(x)"
   ]
  },
  {
   "cell_type": "code",
   "execution_count": null,
   "metadata": {
    "collapsed": false
   },
   "outputs": [],
   "source": [
    "x *= 0.2  # x is upgraded to a float!\n",
    "print(x)"
   ]
  },
  {
   "cell_type": "code",
   "execution_count": null,
   "metadata": {
    "collapsed": false
   },
   "outputs": [],
   "source": [
    "# this is confusing to most, avoid\n",
    "x %= 1\n",
    "print x\n",
    "# but it is sometimes used as string interpolation\n",
    "s = 'Logging %s'\n",
    "s %= 'this'\n",
    "print s\n",
    "# again, this is confusing to most"
   ]
  },
  {
   "cell_type": "markdown",
   "metadata": {},
   "source": [
    "### bool"
   ]
  },
  {
   "cell_type": "code",
   "execution_count": null,
   "metadata": {
    "collapsed": false
   },
   "outputs": [],
   "source": [
    "print bool(-1), bool(0), bool(1)\n",
    "print bool(None)\n",
    "print bool(' '), bool('')\n",
    "print bool(bool) # ;) a function is True but who'd need this really"
   ]
  },
  {
   "cell_type": "markdown",
   "metadata": {},
   "source": [
    "##### Identity: is and is not"
   ]
  },
  {
   "cell_type": "code",
   "execution_count": null,
   "metadata": {
    "collapsed": false
   },
   "outputs": [],
   "source": [
    "x = 1\n",
    "y = 1\n",
    "x is y"
   ]
  },
  {
   "cell_type": "code",
   "execution_count": null,
   "metadata": {
    "collapsed": false
   },
   "outputs": [],
   "source": [
    "x = 300\n",
    "y = 300\n",
    "x is y"
   ]
  },
  {
   "cell_type": "markdown",
   "metadata": {},
   "source": [
    "Takeaway: \"is\" and \"is not\" refer to the memory being used by the object. If x and y point to the same location in memory, then x is y will be True.\n",
    "\n",
    "Probably most common use of \"is\" is in comparisons to \"None\". All variables equal to \"None\" are guaranteed to point to the same memory location (i.e. it acts as a Singleton)."
   ]
  },
  {
   "cell_type": "code",
   "execution_count": null,
   "metadata": {
    "collapsed": false
   },
   "outputs": [],
   "source": [
    "x = None\n",
    "print x is None\n",
    "\n",
    "# common usage\n",
    "def my_function(a=None):\n",
    "    if a is None:\n",
    "        # do sth\n",
    "        pass"
   ]
  },
  {
   "cell_type": "markdown",
   "metadata": {},
   "source": [
    "##### types"
   ]
  },
  {
   "cell_type": "code",
   "execution_count": null,
   "metadata": {
    "collapsed": false
   },
   "outputs": [],
   "source": [
    "x = 'sth'\n",
    "# type command is typically used in debug to understand the context, \n",
    "# people do this different ways though\n",
    "print type(x)\n",
    "print x.__class__\n",
    "print x.__class__.__name__\n",
    "\n",
    "# now programatically\n",
    "print isinstance(x, str)\n",
    "\n",
    "class A(object): pass\n",
    "print issubclass(A, basestring)\n",
    "print issubclass(str, basestring)\n",
    "print isinstance(1.212, int)"
   ]
  },
  {
   "cell_type": "markdown",
   "metadata": {},
   "source": [
    "##### string interpolation, concatenation and formatting"
   ]
  },
  {
   "cell_type": "code",
   "execution_count": null,
   "metadata": {
    "collapsed": false
   },
   "outputs": [],
   "source": [
    "changes = ['pull', 'push']\n",
    "print 'Changes applied:', changes\n",
    "print 'Changes applied: %s' % changes\n",
    "print 'Changes applied: %s, %s' % (changes[0], changes[1])\n",
    "print 'Changes applied: {}'.format(changes)\n",
    "print 'Changes applied: {ch}'.format(ch=changes)\n",
    "print 'Changes applied: {changes}'.format(**locals())\n",
    "# Which one to use?"
   ]
  }
 ],
 "metadata": {
  "kernelspec": {
   "display_name": "Python 2",
   "language": "python",
   "name": "python2"
  },
  "language_info": {
   "codemirror_mode": {
    "name": "ipython",
    "version": 2
   },
   "file_extension": ".py",
   "mimetype": "text/x-python",
   "name": "python",
   "nbconvert_exporter": "python",
   "pygments_lexer": "ipython2",
   "version": "2.7.6"
  }
 },
 "nbformat": 4,
 "nbformat_minor": 0
}
