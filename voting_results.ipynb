{
 "cells": [
  {
   "cell_type": "code",
   "execution_count": 41,
   "metadata": {
    "collapsed": false
   },
   "outputs": [
    {
     "name": "stdout",
     "output_type": "stream",
     "text": [
      "\u001b[33mYou are using pip version 7.0.3, however version 7.1.0 is available.\n",
      "You should consider upgrading via the 'pip install --upgrade pip' command.\u001b[0m\n",
      "Requirement already satisfied (use --upgrade to upgrade): munkres in /home/bartek/.virtualenvs/summercamp-notebooks/lib/python2.7/site-packages\n"
     ]
    }
   ],
   "source": [
    "#https://pypi.python.org/pypi/munkres/\n",
    "!pip install munkres"
   ]
  },
  {
   "cell_type": "code",
   "execution_count": 42,
   "metadata": {
    "collapsed": true
   },
   "outputs": [],
   "source": [
    "from munkres import Munkres, print_matrix\n",
    "from collections import OrderedDict, defaultdict\n",
    "from pprint import pprint"
   ]
  },
  {
   "cell_type": "code",
   "execution_count": 43,
   "metadata": {
    "collapsed": false
   },
   "outputs": [
    {
     "name": "stdout",
     "output_type": "stream",
     "text": [
      "slots: ['nlp', 'nlp', 'translation', 'translation', 'webstores', 'webstores', 'ebay', 'ebay', 'amazon', 'amazon']\n"
     ]
    }
   ],
   "source": [
    "teams = ('nlp', 'translation', 'webstores', 'ebay', 'amazon')\n",
    "# each team has two slots\n",
    "slots = []\n",
    "for slot in teams:\n",
    "    slots.append(slot)\n",
    "    slots.append(slot)\n",
    "    \n",
    "print 'slots:', slots\n",
    "\n",
    "# maximum preference points\n",
    "max_ = 5\n",
    "weights = OrderedDict()\n",
    "weights['kubam'] =    (3, 3, 5, 3, 3)\n",
    "weights['ola'] =      (5, 4, 0, 0, 1)\n",
    "weights['tomek'] =    (5, 5, 4, 0, 2)\n",
    "weights['adam'] =     (5, 5, 4, 0, 0)\n",
    "weights['elena'] =    (0, 3, 5, 0, 5)\n",
    "weights['krzysiek'] = (0, 5, 3, 5, 4)\n",
    "weights['mikaeil'] =  (0, 0, 4, 0, 5)\n",
    "weights['kubak'] =    (0, 4, 5, 3, 2)\n",
    "weights['rafal'] =    (5, 0, 0, 0, 0)\n",
    "weights['karol'] =    (0, 0, 0 ,5, 0)"
   ]
  },
  {
   "cell_type": "code",
   "execution_count": 44,
   "metadata": {
    "collapsed": false
   },
   "outputs": [
    {
     "name": "stdout",
     "output_type": "stream",
     "text": [
      "Peoples choices doubled:\n",
      "[3, 3, 3, 3, 1, 1, 3, 3, 3, 3]\n",
      "[1, 1, 2, 2, 6, 6, 6, 6, 5, 5]\n",
      "[1, 1, 1, 1, 2, 2, 6, 6, 4, 4]\n",
      "[1, 1, 1, 1, 2, 2, 6, 6, 6, 6]\n",
      "[6, 6, 3, 3, 1, 1, 6, 6, 1, 1]\n",
      "[6, 6, 1, 1, 3, 3, 1, 1, 2, 2]\n",
      "[6, 6, 6, 6, 2, 2, 6, 6, 1, 1]\n",
      "[6, 6, 2, 2, 1, 1, 3, 3, 4, 4]\n",
      "[1, 1, 6, 6, 6, 6, 6, 6, 6, 6]\n",
      "[6, 6, 6, 6, 6, 6, 1, 1, 6, 6]\n"
     ]
    }
   ],
   "source": [
    "# munkres operates on a matrix\n",
    "matrix = []\n",
    "for person in weights.values():\n",
    "    reversed_preferences = []\n",
    "    for preference in person:\n",
    "        # reverse the preference, 0s are not allowed log(0) makes no sense, let's add one point\n",
    "        reversed_preference = max_ - preference + 1\n",
    "        reversed_preferences.append(reversed_preference)\n",
    "        # two slots in each team, so double \n",
    "        reversed_preferences.append(reversed_preference)\n",
    "    matrix.append(reversed_preferences)\n",
    "\n",
    "m = Munkres()\n",
    "indexes = m.compute(matrix)\n",
    "print_matrix(matrix, msg='Peoples choices doubled:')"
   ]
  },
  {
   "cell_type": "code",
   "execution_count": 45,
   "metadata": {
    "collapsed": false
   },
   "outputs": [
    {
     "name": "stdout",
     "output_type": "stream",
     "text": [
      "indexes: [(0, 4), (1, 0), (2, 3), (3, 2), (4, 9), (5, 7), (6, 8), (7, 5), (8, 1), (9, 6)]\n",
      "\n",
      "Teams again: ('nlp', 'translation', 'webstores', 'ebay', 'amazon')\n",
      "\n",
      "     kubam (3, 3, 5, 3, 3) webstores\n",
      "       ola (5, 4, 0, 0, 1) nlp\n",
      "     tomek (5, 5, 4, 0, 2) translation\n",
      "      adam (5, 5, 4, 0, 0) translation\n",
      "     elena (0, 3, 5, 0, 5) amazon\n",
      "  krzysiek (0, 5, 3, 5, 4) ebay\n",
      "   mikaeil (0, 0, 4, 0, 5) amazon\n",
      "     kubak (0, 4, 5, 3, 2) webstores\n",
      "     rafal (5, 0, 0, 0, 0) nlp\n",
      "     karol (0, 0, 0, 5, 0) ebay\n",
      "\n",
      "         nlp: ola, rafal\n",
      " translation: tomek, adam\n",
      "      amazon: elena, mikaeil\n",
      "   webstores: kubam, kubak\n",
      "        ebay: krzysiek, karol\n"
     ]
    }
   ],
   "source": [
    "print 'indexes:', indexes\n",
    "print\n",
    "print 'Teams again:', teams\n",
    "print\n",
    "result = defaultdict(list)\n",
    "for person_index, slot_index in indexes:\n",
    "    person = weights.keys()[person_index]\n",
    "    preferences = weights.values()[person_index][0::1]\n",
    "    slot = slots[slot_index]\n",
    "    result[slot].append((person, preferences))\n",
    "    print '{person:>10} {preferences} {slot}'.format(**locals())\n",
    "\n",
    "print \n",
    "for team, people_with_preferences in result.iteritems():\n",
    "    print '{team:>12}: {people}'.format(\n",
    "        team=team, \n",
    "        people=', '.join([name for name, _ in people_with_preferences])\n",
    "    )\n"
   ]
  }
 ],
 "metadata": {
  "kernelspec": {
   "display_name": "Python 2",
   "language": "python",
   "name": "python2"
  },
  "language_info": {
   "codemirror_mode": {
    "name": "ipython",
    "version": 2
   },
   "file_extension": ".py",
   "mimetype": "text/x-python",
   "name": "python",
   "nbconvert_exporter": "python",
   "pygments_lexer": "ipython2",
   "version": "2.7.9"
  }
 },
 "nbformat": 4,
 "nbformat_minor": 0
}
