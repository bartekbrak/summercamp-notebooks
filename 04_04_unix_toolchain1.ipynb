{
 "cells": [
  {
   "cell_type": "code",
   "execution_count": 1,
   "metadata": {
    "collapsed": false
   },
   "outputs": [
    {
     "data": {
      "text/html": [
       "<style>.container {\n",
       "    width:700px;    \n",
       "}\n",
       ".rendered_html pre {border: 1px solid #cfcfcf; background-color: #f7f7f7; padding:5px}\n",
       ".rendered_html pre, .rendered_html code {background-color: #f7f7f7}\n",
       "div.prompt { /* remove In/Out prompt */\n",
       "    display: none;\n",
       "}\n",
       "div.output_stdout pre {\n",
       "    border: 1px solid #cfcfcf; background-color: #f7f7f7; padding:5px; color: maroon;\n",
       "}\n",
       "/* hide stdout overlay, prevents copying */\n",
       "div.out_prompt_overlay {\n",
       "    display:none !important;\n",
       "}\n",
       "\n",
       "</style>"
      ],
      "text/plain": [
       "<IPython.core.display.HTML object>"
      ]
     },
     "execution_count": 1,
     "metadata": {},
     "output_type": "execute_result"
    }
   ],
   "source": [
    "# notebook preparation, no need to run this\n",
    "from utils import css_from_file\n",
    "css_from_file('css/bartek.css')"
   ]
  },
  {
   "cell_type": "markdown",
   "metadata": {},
   "source": [
    "# Pythonista toolchain for fun and profit, (unix, editos, ...)\n",
    "\n",
    "### Bartek \n",
    "\n",
    "Duration: the more the better, but let's aim for 2hrs first\n",
    "\n",
    "### Objectives:\n",
    "- learn vim, cat, grep, find, sudo, \n",
    "\n",
    "###URLs:\n",
    "- [sublime text](http://www.sublimetext.com/) - have a look at the animation on the main site, it sums up sublime's power\n",
    "- [PyCharm](https://www.jetbrains.com/pycharm/)\n",
    "- [an ok VIM tutorial](http://linuxconfig.org/vim-tutorial) - I need to find a batter one but this is alright, just alright\n",
    "- [Vim adventure](http://vim-adventures.com/) - this is hilarious!!! **Try it** for fun!... and profit\n",
    "- [some bash cheatsheet](http://www.skorks.com/2009/09/bash-shortcuts-for-maximum-productivity/) - more than you need\n",
    "- [awesome printable bash/linux cheatsheet](http://cli.learncodethehardway.org/bash_cheat_sheet.pdf) - you learn this and you get to tell other people what to learn\n",
    "- [virtualenvwrapper](https://virtualenvwrapper.readthedocs.org/en/latest/) - saves you time with python environments\n",
    "- [python packaging guide](https://packaging.python.org/en/latest/) - the light in the tunnels of packaging madness"
   ]
  },
  {
   "cell_type": "markdown",
   "metadata": {},
   "source": [
    "# Python text editors and IDEs\n",
    "\n",
    "There are many, most of programmers I know stick to these:\n",
    "\n",
    "##### PyCharm IDE\n",
    "- fantastic code navigation\n",
    "- best code linter there is, prevents mistakes\n",
    "- refactoring functions\n",
    "- git integration\n",
    "- free community edition\n",
    "- db integration\n",
    "- virtualenv support\n",
    "- learning mode (how to enable it, Seba?)\n",
    "\n",
    "- java based, so slower, SSD is a must for real work\n",
    "- takes long to learn (but compare to vim/emacs)\n",
    "- memory consuming, but come on, you have 8GB!\n",
    "\n",
    "##### Sublime Text\n",
    "- Fast, low resource usage\n",
    "- built in syntax highlighting for many languages\n",
    "- highly extensible with plugins: linting, pep8, code navigation (quite ok, far from IDEs) + hundreds other\n",
    "\n",
    "- abandonware?\n",
    "- expensive / nagging pop ups\n",
    "\n",
    "##### vim\n",
    "- available everywhere\n",
    "- lightweight\n",
    "- tens of years of improving keyboard-brain relationship\n",
    "\n",
    "\n",
    "- fuc\\*in steep learning curve\n",
    "- no comment, block comment by default\n",
    "- stagnated development, [neovim](https://github.com/neovim/neovim)\n",
    "\n",
    "###### VIM cheatsheet\n",
    "    i - insert mode\n",
    "    escape - normal mode\n",
    "    : - type commands\n",
    "    escape, :wq - stop editing, write, quit\n",
    "    / - search\n",
    "    u - undo\n",
    "    gg, shift g - go to beginning / end of file\n",
    "    dw, dd - delete a word, delete a line\n",
    "    ctrl + arrows, hjkl - navigate\n",
    "    NUMBERcommand - do command NUMBER of times, 10dd - delete ten lines\n",
    "    :LINE_NUMBER - go to LINE_NUMBER\n",
    "    o, shift o - edit below or above\n",
    "    \n",
    "some more, some advanced:\n",
    "\n",
    "    shift A - edit at the end of line\n",
    "    shift I - edit at the beginning of the line\n",
    "    r - replace character under cursor\n",
    "    d$ - delete to the end of line\n",
    "    yy, p or P - yank a line, paste below or above\n",
    "    f, then character, then ; or , - find character occurence\n",
    "    q, NUMBER, *stuff*, q - record a macro\n",
    "    @NUMBER - replay a macro\n",
    "    NUMBER@NUMBER - replay a macro\n",
    "    \n",
    "`vimtutor` (command in bash) will teach you all you need.\n",
    "\n",
    "Please get back to this section often and try to learn new tricks as you go along."
   ]
  },
  {
   "cell_type": "markdown",
   "metadata": {},
   "source": [
    "# PyCharm refactoring demo\n",
    "PyCharm has a set of useful refactoring functions. You can extract variables, rename methods, move classes to other files. Not many developers use them, what a pity. Let me show you the basics.\n",
    "    \n",
    "    BARTEKS_GITHUB=https://raw.githubusercontent.com/bartek/\n",
    "\tDSR=${BARTEKS_GITHUB}python_dsr_2015/master/notebooks/\n",
    "REFACTOR=${DSR}code_to_refactor/\n",
    "\twget ${REFACTOR}refactor_me.py\n",
    "wget ${REFACTOR}refactored.py\n",
    "    \n",
    "Now, can you please get that code and try to achieve the same using refactoring menu. Use keyboard shortcuts."
   ]
  },
  {
   "cell_type": "markdown",
   "metadata": {},
   "source": [
    "# Unix basics\n",
    "\n",
    "### bash basics\n",
    "Bash follows emacs keyboard, it is also used in ipython. Learn it. I tell you, there is nothing more annoying when you pair program with someone and they are slow in bash. It's no black magic. :) You will love it when you get to competence.\n",
    "\n",
    "##### absolute basics\n",
    "\n",
    "    ctrl a, ctrl e - move to beginning, end of line\n",
    "    ctrl r, type - search history\n",
    "    ctrl + arrows - jump on words\n",
    "    tab, tab tab - completion\n",
    "    ctrl k - delete until end of line\n",
    "    ctrl u - delete until the cursor\n",
    "    ctrl c - while typing command, abandon command\n",
    "    \n",
    "and my personal favourite killer: `alt + .` - use last commands argument as new argument, now how quickly can you do the following without this\n",
    "    mkdir -p ~/.config/pip/\n",
    "    cd ~/.config/pip/\n",
    "    touch pip.conf\n",
    "    vim pip.conf\n",
    "    chmod 600 pip.conf\n",
    "    \n",
    "There is no excuse not to learn the above. Pliz, pliz, don't be slow basher. Others will highly appreciate your terminal skills. You will spend half of your work in terminal, the time saved is your for free to enjoy life! :P"
   ]
  },
  {
   "cell_type": "markdown",
   "metadata": {},
   "source": [
    "# Virtual envs\n",
    "\n",
    "now improvise Bartek... so much writing and you will forget all, it's just easier to make you do this and ask questions along.\n",
    "\n",
    "- what is pip? How it destroys sanity of toughest people?\n",
    "- what is a virtualenv?\n",
    "- what is a site? \n",
    "- why to avoid the root site?\n",
    "- what is a virtualenvwrapper?\n",
    "- why not to install python packages via apt-get\n",
    "- why do I need system libraries when installing Python packages? Fortran, really?\n",
    "- so I get errors when installing via pip, now what? what is apt-file?\n",
    "- anaconda? wow, I want it! Ooh, it's for ~~lame people~~scientists :(\n",
    "- virtualenv hooks? do I have them? what for?\n",
    "- pip editable mode"
   ]
  },
  {
   "cell_type": "markdown",
   "metadata": {},
   "source": [
    "# Python packaging\n",
    "and why it sucks like horses suck water\n",
    "\n",
    "- pip 1.4, 1.5, 6.0, 6.1, 7.1... wait, what?\n",
    "- PyPI, cheeseshops, [python3 wall of superpowers](https://python3wos.appspot.com/)\n",
    "- installing from github, installing from gitlab, installing from cheeseshops, installing from compressed files, installing from directoriers, installing from your mom\n",
    "- setuptools, distribute, distutils, distutils2... just read [this](http://stackoverflow.com/a/14753678), get the general idea and use setuptools with newest pip,\n",
    "- setuptools normalization in WI, usecase\n",
    "- what's wibump?\n",
    "- what's http://semver.org/ ?\n",
    "\n",
    "<img src=\"http://www.metalsucks.net/wp-content/uploads/2013/08/confused-baby.jpg\" width=300>\n",
    "\n",
    "Don't worry, nobody knows what's going on."
   ]
  }
 ],
 "metadata": {
  "kernelspec": {
   "display_name": "Python 2",
   "language": "python",
   "name": "python2"
  },
  "language_info": {
   "codemirror_mode": {
    "name": "ipython",
    "version": 2
   },
   "file_extension": ".py",
   "mimetype": "text/x-python",
   "name": "python",
   "nbconvert_exporter": "python",
   "pygments_lexer": "ipython2",
   "version": "2.7.9"
  }
 },
 "nbformat": 4,
 "nbformat_minor": 0
}
