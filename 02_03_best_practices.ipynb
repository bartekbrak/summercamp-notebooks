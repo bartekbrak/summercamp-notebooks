{
 "cells": [
  {
   "cell_type": "markdown",
   "metadata": {},
   "source": [
    "# The title of your workshop here\n",
    "\n",
    "### Wojciech Gdanski  \n",
    "\n",
    "Date: Tuesday, 7 June 2015, day 2nd.\n",
    "Duration: 2h\n",
    "\n",
    "### Agenda:\n",
    "- 10:00 - 10:10 - Set-up, make sure you have tools installed.\n",
    "- 10:10 - 10:55 - The theory behind That Great Thing.\n",
    "- 10:55 - 11:00 - Short break, please be back on time.\n",
    "- 11:00 - 11:30 - Exercices buiilding your own great thing implementation.\n",
    "- 11:30 - 11:55 - Advanced Great Thing usage and, a small exercise and wrap up.\n",
    "\n",
    "### Objectives:\n",
    "- learn how to set up 2 different tools commonly used with the Great Thing\n",
    "- know when to use and when to avoid the Great Thing\n",
    "- get some hand on experience buiilding your own module with it\n",
    "\n",
    "###URLs:\n",
    "- https://readthedocs.org/projects/python/ - offical documentation\n",
    "- https://github.com/kennethreitz/requests - that one useful github library thta makes everything easier\n",
    "- http://functionaltalks.org/2013/08/26/john-carmack-thoughts-on-haskell/ - this guy writes a lot about the subject"
   ]
  },
  {
   "cell_type": "markdown",
   "metadata": {},
   "source": [
    "# Intro\n",
    "\n",
    "<img src=\"http://www.edgement.com/wp-content/uploads/2015/06/fix-bug.gif\">\n",
    "\n",
    "Soup strainer kaiser bill doctor strange super mario timothy dalton testosterone trophy, kaiser bill soup strainer arcu doctor strange Fallen eyebrow timothy dalton cappuccino catcher testosterone trophy super mario, cappuccino catcher graeme souness super mario kaiser bill testosterone trophy doctor strange Fallen eyebrow helllloooo tricky sneezes soup strainer clive dunn fu manchu mustachioed timothy dalton rock n roll star arcu. Toothbrush rugged et driving gloves what a bounder, rugged et cunning like a fox nuremberg rally face mop driving gloves toothbrush what a bounder sportacus, blue oyster bar felis cunning like a fox yeoman farmer sportacus driving gloves toothbrush face mop rugged et what a bounder nuremberg rally?\n"
   ]
  },
  {
   "cell_type": "code",
   "execution_count": null,
   "metadata": {
    "collapsed": false
   },
   "outputs": [],
   "source": [
    "# code sample\n",
    "# Gather clues from the surrounding environment.\n",
    "if self.trust_env:\n",
    "    # Set environment's proxies.\n",
    "    env_proxies = get_environ_proxies(url) or {}\n",
    "    for (k, v) in env_proxies.items():\n",
    "        proxies.setdefault(k, v)\n"
   ]
  },
  {
   "cell_type": "code",
   "execution_count": null,
   "metadata": {
    "collapsed": true
   },
   "outputs": [],
   "source": [
    "# Exercise 1\n",
    "\n",
    "# given this\n",
    "x = [lambda x: x**_ for x in random_rubbish_generator]\n",
    "\n",
    "# do this:\n",
    "\n",
    "#start! "
   ]
  },
  {
   "cell_type": "markdown",
   "metadata": {},
   "source": [
    "# Some more theory\n",
    "\n",
    "Soup strainer kaiser bill doctor strange super mario timothy dalton testosterone trophy, kaiser bill soup strainer arcu doctor strange Fallen eyebrow timothy dalton cappuccino catcher testosterone trophy super mario, cappuccino catcher graeme souness super mario kaiser bill testosterone trophy doctor strange Fallen eyebrow helllloooo tricky sneezes soup strainer clive dunn fu manchu mustachioed timothy dalton rock n roll star arcu. Toothbrush rugged et driving gloves what a bounder, rugged et cunning like a fox nuremberg rally face mop driving gloves toothbrush what a bounder sportacus, blue oyster bar felis cunning like a fox yeoman farmer sportacus driving gloves toothbrush face mop rugged et what a bounder nuremberg rally?\n",
    "\n"
   ]
  },
  {
   "cell_type": "code",
   "execution_count": null,
   "metadata": {
    "collapsed": false
   },
   "outputs": [],
   "source": [
    "# code sample\n",
    "\n",
    "# Set environment's basic authentication if not explicitly set.\n",
    "auth = request.auth\n",
    "if self.trust_env and not auth and not self.auth:\n",
    "    auth = get_netrc_auth(request.url)\n",
    "\n",
    "p = PreparedRequest()\n",
    "p.prepare(\n",
    "    method=request.method.upper(),\n",
    "    url=request.url,\n",
    "    files=request.files,\n",
    "    data=request.data,\n",
    "    headers=merge_setting(request.headers, self.headers, dict_class=CaseInsensitiveDict),\n"
   ]
  },
  {
   "cell_type": "code",
   "execution_count": null,
   "metadata": {
    "collapsed": true
   },
   "outputs": [],
   "source": [
    "# Exercise 2 "
   ]
  },
  {
   "cell_type": "code",
   "execution_count": null,
   "metadata": {
    "collapsed": true
   },
   "outputs": [],
   "source": [
    "# Exercise 3"
   ]
  },
  {
   "cell_type": "markdown",
   "metadata": {},
   "source": [
    "# Conclusion\n",
    "\n",
    "If you were two rememeber one thing it would be this: never emacs via sendmail.\n",
    "\n",
    "Brief recap of what we did:\n",
    "- thing one\n",
    "- thing two\n",
    "- thing three\n",
    "\n",
    "### More useful stuff:\n",
    "\n",
    "- [Python C API](http://docs.python.org/2/c-api/): Python is implemented in C, and you can actually write C code which will compile to a Python module!  This is extremely low-level, and I would only recommend it if you enjoy pain (see Dan Foreman-Mackie's [blog post](http://dan.iel.fm/posts/python-c-extensions/) for a concise-as-possible introduction)\n",
    "- [SWIG](http://www.swig.org/): the Simplified Wrapper Interface Generator, can generate wrappers from a variety of low-level languages to a variety of high-level languages.  It's used heavily by LSST and other projects.\n",
    "- [Weave](http://docs.scipy.org/doc/scipy/reference/tutorial/weave.html): included in SciPy, weave is a method of putting C snippets within a Python program.  It's largely been superseded by Cython in practice.\n",
    "- [PyPy](http://pypy.org/): a JIT compiler for Python written in Python.  PyPy doesn't support the C backend which most scientific tools rely on, so it's not extremely useful for scientific computing.\n",
    "\n"
   ]
  }
 ],
 "metadata": {
  "kernelspec": {
   "display_name": "Python 2",
   "language": "python",
   "name": "python2"
  },
  "language_info": {
   "codemirror_mode": {
    "name": "ipython",
    "version": 2
   },
   "file_extension": ".py",
   "mimetype": "text/x-python",
   "name": "python",
   "nbconvert_exporter": "python",
   "pygments_lexer": "ipython2",
   "version": "2.7.6"
  }
 },
 "nbformat": 4,
 "nbformat_minor": 0
}
