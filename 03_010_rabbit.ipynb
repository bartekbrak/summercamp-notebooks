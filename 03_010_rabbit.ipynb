{
 "cells": [
  {
   "cell_type": "markdown",
   "metadata": {},
   "source": [
    "# RabbitMQ\n",
    "\n",
    "![](https://webhero.com/wp-content/uploads/2013/04/RabbitMQ.jpg)\n",
    "\n",
    "### Grzegorz \n",
    "\n",
    "Date: Wednesday, 8 June 2015, day 3rd.\n",
    "Duration: 2h\n",
    "\n",
    "### Agenda:\n",
    "- 9:10 - 9:25 - What's Rabbit MQ? Why do we use it?\n",
    "- 9:25 - 9:40 - AMQP protocol (Producer, Consumer, Exchange, Queue, Task)\n",
    "- 9:25 - 10:50 - Simple exercise with Pika\n",
    "- 9:50 - 10:00 - Short break, please be back on time.\n",
    "- 10:00 - 10:45 - More exercises with RabbitMQ.\n",
    "- 10:45 - 10:55 - Sum up\n",
    "\n",
    "### Objectives:\n",
    "- learn what is RabbitMQ and AMQP\n",
    "- learn about possible message flows\n",
    "- get some hand on experience with RabbitMQ and Python\n",
    "\n",
    "###URLs:\n",
    "- https://www.rabbitmq.com/ - offical RabbitMQ documentation, tutorials\n",
    "- http://jmcle.github.io/rabbitmq-visualizer/# - RabbitMQ visual simulator\n",
    "- https://pika.readthedocs.org/en/0.9.14/ - documentation for Python wrapper around RabbitMQ "
   ]
  },
  {
   "cell_type": "markdown",
   "metadata": {},
   "source": [
    "# What's Rabbit MQ? Why do we use it?\n",
    "\n",
    "In Python the use of threads is limited because of Python's Global Interpreter Lock. The way to deal with heavier tasks is to spread them between our CPU cores using multiple processes (for example using the multiprocessing module). This should work as long as the application we are developing is using one machine. And this is not the case in bigger production systems such as the ones that we have in company.\n",
    "\n",
    "To distribute work between multiple machines we need a communicating mechanism to spread the work among them. Our applications achieve parallelism with the help of RabbitMQ.\n",
    "\n",
    "RabbitMQ is a messaging framework that helps to distribute work across many machines.\n",
    "\n",
    "* supports multiple messaging protocols (we're interested in AMQP)\n",
    "* open source (github repo)\n",
    "* written in Erlang (fault tollerant)\n",
    "\n",
    "// Some more"
   ]
  },
  {
   "cell_type": "markdown",
   "metadata": {},
   "source": [
    "#AMQP protocol"
   ]
  },
  {
   "cell_type": "markdown",
   "metadata": {},
   "source": [
    "RabbitMQ implements a flexible messaging protocol - AMQP (Advanced Message Queueing Protocol). According to it's specification, we have 4 different kinds of objects: producers, consumers, exchanges and queues. \n",
    "\n",
    "##Producer\n",
    "\n",
    "generates messages\n",
    "\n",
    "##Consumer\n",
    "\n",
    "does the actual work - computing, waiting etc.\n",
    "\n",
    "##Exchange\n",
    "\n",
    "assigns tasks to queues\n",
    "\n",
    "different types of exchanges:\n",
    "\n",
    "* direct\n",
    "* fanout\n",
    "* topic\n",
    "* ...\n",
    "\n",
    "##Queue\n",
    "\n",
    "Holds tasks\n",
    "\n",
    "##Task\n",
    "\n",
    "Unit of work"
   ]
  },
  {
   "cell_type": "markdown",
   "metadata": {},
   "source": [
    "Now let's just install it and code some exercises :)"
   ]
  },
  {
   "cell_type": "markdown",
   "metadata": {},
   "source": [
    "# Install RabbitMQ\n",
    "\n",
    "Just type in your shell:\n",
    "\n",
    "```bash\n",
    "sudo apt-get install RabbitMQ```"
   ]
  },
  {
   "cell_type": "markdown",
   "metadata": {},
   "source": [
    "# Install Pika //or kombu?\n",
    "\n",
    "Activate your virtualenv:\n",
    "\n",
    "```bash\n",
    "workon summercamp```\n",
    "\n",
    "\n",
    "Now install pika :)\n",
    "```bash\n",
    "pip install pika```\n"
   ]
  },
  {
   "cell_type": "markdown",
   "metadata": {},
   "source": []
  },
  {
   "cell_type": "markdown",
   "metadata": {},
   "source": [
    "##Some layout examples:\n",
    "\n",
    "\n",
    "gifs from simulator\n"
   ]
  },
  {
   "cell_type": "markdown",
   "metadata": {},
   "source": [
    "#Simple exercise with Pika"
   ]
  },
  {
   "cell_type": "markdown",
   "metadata": {},
   "source": [
    "Let's do it in pairs."
   ]
  },
  {
   "cell_type": "code",
   "execution_count": null,
   "metadata": {
    "collapsed": true
   },
   "outputs": [],
   "source": [
    "# Exercise 1 template - simple messaging - calculator\n",
    "\n",
    "import pika"
   ]
  },
  {
   "cell_type": "markdown",
   "metadata": {},
   "source": [
    "#Short break, please be back on time."
   ]
  },
  {
   "cell_type": "markdown",
   "metadata": {},
   "source": [
    "#More exercises with RabbitMQ."
   ]
  },
  {
   "cell_type": "code",
   "execution_count": null,
   "metadata": {
    "collapsed": true
   },
   "outputs": [],
   "source": [
    "# Exercise 2 template"
   ]
  },
  {
   "cell_type": "code",
   "execution_count": null,
   "metadata": {
    "collapsed": true
   },
   "outputs": [],
   "source": [
    "# Exercise 3 template"
   ]
  },
  {
   "cell_type": "markdown",
   "metadata": {},
   "source": [
    "#Sum up"
   ]
  },
  {
   "cell_type": "markdown",
   "metadata": {},
   "source": [
    "# Conclusion\n",
    "\n",
    "If you were two rememeber one thing it would be this: \n",
    "\n",
    "  // something about distributed computing  \n",
    "\n",
    "Brief recap of what we did:\n",
    "- installed and configured RabbitMQ\n",
    "- learned what RabbitMQ is and why do we use it\n",
    "- wrote 3 Python programs that show some properties of RabbitMQ\n",
    "\n",
    "### More useful stuff:\n",
    "\n",
    "- [Python Multiprocessing](https://docs.python.org/2/library/multiprocessing.html): A simple way to achieve parallelism on a single machine :)\n"
   ]
  },
  {
   "cell_type": "code",
   "execution_count": null,
   "metadata": {
    "collapsed": true
   },
   "outputs": [],
   "source": []
  }
 ],
 "metadata": {
  "kernelspec": {
   "display_name": "Python 2",
   "language": "python",
   "name": "python2"
  },
  "language_info": {
   "codemirror_mode": {
    "name": "ipython",
    "version": 2
   },
   "file_extension": ".py",
   "mimetype": "text/x-python",
   "name": "python",
   "nbconvert_exporter": "python",
   "pygments_lexer": "ipython2",
   "version": "2.7.6"
  }
 },
 "nbformat": 4,
 "nbformat_minor": 0
}
