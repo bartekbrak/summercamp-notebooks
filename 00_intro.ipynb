{
 "cells": [
  {
   "cell_type": "markdown",
   "metadata": {},
   "source": [
    "# Summercamp 2015\n",
    "\n",
    "Hi everybody. We're glad to have you here! :) In short, this programmme is to teach you as much as possible about programming in the short timespan of three months that you decided to stay with us. But even more so, to teach you how to work in a real life, real work environment while collaborating with tens of people. Programming is comparatively easy, being a part of a large organisation, participating in a team, negotiating compromises, forming reputation, fitting in the company culture, expanding and giving back to this culture... that's something we can't teach you directly. But we can provide that environment, give you guidance and helping hand when you get stressed or confused. Observe, ask questions, communicate and don't be afraid to make mistakes. \n",
    "\n",
    "The programme consists of one week of structured learning and then you join a team and dive into real work. It is not decided yet which team you'll end up with. In the next weeks, you'll also receive a half a day training at the end of each week on the subjects that we yet have to decide, we'll see what's needed when you start working with us. "
   ]
  },
  {
   "cell_type": "markdown",
   "metadata": {},
   "source": [
    "### Company services set-up\n",
    "\n",
    "- [gmail](https://mail.google.com) - [put a real life picture of you](https://plus.google.com/u/0/me?tab=mX) so that people can recognize you when you write an e-mail, get a password from Bartek, change it to something crazy, I will try to break into your account using your old password one weeka after today and will send embarassing offers to your colleagues if you don't... ;) \n",
    "- [gravatar](https://en.gravatar.com/) - set up for work e-mail address with a real life picture of you\n",
    "- [skype](http://www.skype.com/en/) - all programmers use Slack chat, everyone is required to have a Skype account to communicate with each other but some don't and are fine with it. You will most probably not need it at the beginning. You will receive it later on. The handles follow name.surname.wi pattern.\n",
    "- [gitlab](https://gitlab.devcompany.com/) - repository of repositories, you have received an e-mail with your login credentials\n",
    "- [slack](https://company.slack.com/messages/general/) - used by devs, admins and some managment people, do learn how to format code using backticks and [other formatting syntax](https://slack.zendesk.com/hc/en-us/articles/202288908-Formatting-your-messages), do fill in your full name and surname [here](https://company.slack.com/account/profile) \n",
    "- password manager - do use one, you will store many passwords, [keepassX](https://www.keepassx.org/), [lastpass](https://lastpass.com/) or other \n",
    "- [markdown here](http://markdown-here.com/) - a plugin for your browser for rendering markdown, a must if you send code \n",
    "- [ask](http://ask.dev.devcompany.com/) - internal stack overflow clone, not much used, let's change that\n",
    "- [jupyter](http://jupyter.dev.devcompany.com/tree) - ipython notebook server, feel free to draft code there, nice place to share code that you want to show someone"
   ]
  },
  {
   "cell_type": "markdown",
   "metadata": {},
   "source": [
    "### Learn about workstation recommended set up conventions\n",
    "\n",
    "You have received a computer with reasonable set-up including, mysql, mongo, PyCharm, Sublime text, Robomongo, openssh and others. See details [here](https://github.com/bartek/ubuntu-unattended/blob/master/summer.sh) if you're curious. The machine is Ubuntu 14.04.02, stay on this set-up for some time. If you badly desire some other distro, please wait with changing to after you are comfortable with the stack of tools we use. If you're a MacOS person... use Linux unless you're a wizzard, know how to install specific Python / Mongo / MySQL / Postgres / whatever versions without asking for help... you get the story, we don't want to spend time helping you with the set-up, we don't have much skill in that. \n",
    "\n",
    "##### Conventions\n",
    "\n",
    "These are not required or enforced. It's just easier if you try to follow them so that if you need help, your colleagues will find it easier to navigate in familiar set-up.\n",
    "\n",
    "- Ubuntu - 14.04.02 on your machine\n",
    "- Bash - ZSH is fine, just be competent with if you use it, you will work with others, people will be ask you to type in commands and they don't want you to say 'erm.. give me a minute, this plugin just broke' :)\n",
    "- all projects cloned to `~/workspace`\n",
    "- [git bash prompt](https://github.com/magicmonty/bash-git-prompt), already installed for you.\n",
    "- zsh has some equivalent for git bash prompt, help yourself, I found it difficult to set up but zsh wizzards tell me this is actually easy.\n",
    "\n",
    "\n",
    "##### Wifi\n",
    "\n",
    "<img width=200 src=\"http://i.imgur.com/cl9bo3t.png\" title=\"source: imgur.com\" />\n",
    "The machines we chose for you have a realtek wifi card which is a mess. This is a mistake, sorry, your wifi will not work reliably until we find a solution. We're working on that. If you solve it yourslef, I buy you a beer."
   ]
  },
  {
   "cell_type": "markdown",
   "metadata": {},
   "source": [
    "### Happy people rules, company culture\n",
    "\n",
    "<img width=300 src=\"http://blog.scoop.it/wp-uploads/2015/03/Be-cool-but-also-be-warm.png\">\n",
    "\n",
    "There isn't formal rules set so let's create one! :) Some are offendingly obvious, exceuse me :) \n",
    "\n",
    "- Smile and say hi to everyone, don't be shy, people expect you here and you are welcome.\n",
    "- You will be introduced to everyone at the beginning but you won't remember all the names, don't be afraid to ask for names again and again, use people first names often, they love it. \n",
    "- You are free to go everywhere in the office, it's your office. There is plenty of soft bags to relax on but expect that the rooms they are in are mostly booked so someone will come and stop your slumber just the moment you start being relaxed. You will be part of product department and we usually hang around there.\n",
    "- There is free tea and coffee, fruit in the kitchen. Help yourself. The fridge is usually packed but do use it. Don't eat food, especially smelly food, at your desk. \n",
    "- I'm here to solve all your problems. Whatever you need, whatever frustrates you, whatever you need to share - talk to me, in confidence, if needed, what happens in Vegas stays in Vegas. If you need to talk about me to someone, talk to Joanna Płaskonka, our scrum mistress, she's fantastic problem solver.\n",
    "- Respect people's time. If you need to talk to someone, think through the question and be concise, developers love to talk but we don't want to take too much of their time. Also, think twice before sending an e-mail to many people, always narrow down to only those interested so less people spend less time on their e-mails, same applies to devs channel on slack."
   ]
  },
  {
   "cell_type": "markdown",
   "metadata": {},
   "source": [
    "## Agenda\n",
    "\n",
    "I think we finally got the final version. It shouldn't change much. \n",
    "\n",
    "#####Tuesday:\n",
    "- 09-12 - Tomek , Qualisty Assurance\n",
    "- 12-13 - Bartek , machine set-up, wifi wars, python basics\n",
    "- 1330-1530 - Paweł , Python OOP\n",
    "- 1530-1730 - Ignacy , Best practices, clean code\n",
    "\n",
    "#####Wednesday:\n",
    "- 09-1430 - Robert , SQL, theory, background, WI usecase\n",
    "- 1430-1730 - Mateusz , NoSQL\n",
    "\n",
    "#####Tuesday:\n",
    "- 09-11 - Grzegorz , Rabbit dojo\n",
    "- 11-12 - Szymon , wimq, what the fudge is wimq\n",
    "- 12-13 - Bartek, git one\n",
    "- 1330-16 - Bartek, uniq toolchain one\n",
    "- 16-1730 - Paweł , Pyramid + eBay API, our framework of choice\n",
    "\n",
    "#####Friday:\n",
    "- 09-10 - Bartek, git two\n",
    "- 10-13 - Paweł , Language Model workshop\n",
    "- 1330-14 - Marek , admin site of our cloud services\n",
    "- 14-~16 - Bartek, unix toolchain two\n",
    "- ~16 - teams presentation"
   ]
  },
  {
   "cell_type": "markdown",
   "metadata": {},
   "source": [
    "# Grand expactations\n",
    "\n",
    "- know vim, we'll teach you the basics, you'll need it for server work\n",
    "- know linux well enough to work and willing to expand on this\n",
    "- be efficient with tools, know keyboard shortcuts for bash(emacs), vim, ipython(emacs)\n",
    "- know [i]pdb shortcuts, later on\n",
    "- use your keyboard as much as you can\n",
    "- know ssh reasonably well, use ~/.ssh/config\n",
    "- know git, don't be push-happy on unknown territory\n",
    "- know ipython, try hard with this one, it's awesome and even more awesome when you get to know it well"
   ]
  }
 ],
 "metadata": {
  "kernelspec": {
   "display_name": "Python 2",
   "language": "python",
   "name": "python2"
  },
  "language_info": {
   "codemirror_mode": {
    "name": "ipython",
    "version": 2
   },
   "file_extension": ".py",
   "mimetype": "text/x-python",
   "name": "python",
   "nbconvert_exporter": "python",
   "pygments_lexer": "ipython2",
   "version": "2.7.6"
  }
 },
 "nbformat": 4,
 "nbformat_minor": 0
}
