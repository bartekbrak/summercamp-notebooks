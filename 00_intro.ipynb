{
 "cells": [
  {
   "cell_type": "markdown",
   "metadata": {},
   "source": [
    "# Summercamp 2015\n",
    "\n",
    "### Company services set-up\n",
    "\n",
    "- [gmail](https://mail.google.com) - should already be set up for you, set-up a real life picture of you so that people can recognize you when you write an e-mail\n",
    "- [gravatar](https://en.gravatar.com/) - set up for work e-mail address with a real life picture of you\n",
    "- [skype](http://www.skype.com/en/) - All programmers use Slack chat, everyone is required to have a Skype account to communicate with each other but some don't and are find with it. You will most probably not need it at the beginning.\n",
    "- [slack](https://company.slack.com/messages/general/) - used by devs, admins and some managment people, do learn how to format code using backticks and [other formatting syntax](https://slack.zendesk.com/hc/en-us/articles/202288908-Formatting-your-messages)\n",
    "- password manager - do use one, you will store many passwords, [keepassX](https://www.keepassx.org/), [lastpass](https://lastpass.com/) or other \n",
    "- [markdown here](http://markdown-here.com/) - a plugin for your browser for rendering markdown, a must if you send code \n",
    "\n",
    "\n",
    "### Learn about workstation recommended set up conventions\n",
    "\n",
    "These are not required or enforced. It's just easier if you try to follow them so that if you need help, your colleagues will find it easier to navigate in familiar set-up.\n",
    "\n",
    "- Ubuntu \n",
    "- Bash\n",
    "- Chrome / Firefox\n",
    "- all projects cloned to `~/workspace`\n",
    "- [git bash prompt](https://github.com/magicmonty/bash-git-prompt), already installed for you, if not do:\n",
    "\n",
    "```shell\n",
    "    # install:\n",
    "    mkdir ~/opt\n",
    "    cd ~/opt\n",
    "    git clone https://github.com/magicmonty/bash-git-prompt.git\n",
    "    echo -e \"export GIT_PROMPT_END='\\\\\\n\\$ '\\nsource ~/opt/bash-git-prompt/gitprompt.sh\" >> ~/.bashrc\n",
    "    exec $SHELL  # restart BASH\n",
    "\n",
    "    # get help and examples:\n",
    "    git_prompt_help\n",
    "    git_prompt_examples\n",
    "```\n",
    "- recommended p\n"
   ]
  }
 ],
 "metadata": {
  "kernelspec": {
   "display_name": "Python 2",
   "language": "python",
   "name": "python2"
  },
  "language_info": {
   "codemirror_mode": {
    "name": "ipython",
    "version": 2
   },
   "file_extension": ".py",
   "mimetype": "text/x-python",
   "name": "python",
   "nbconvert_exporter": "python",
   "pygments_lexer": "ipython2",
   "version": "2.7.6"
  }
 },
 "nbformat": 4,
 "nbformat_minor": 0
}
