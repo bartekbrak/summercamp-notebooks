{
 "cells": [
  {
   "cell_type": "markdown",
   "metadata": {},
   "source": [
    "### Introduction to MongoDB\n",
    "\n",
    "### Mateusz \n",
    "\n",
    "Date: Tuesday, 7 June 2015, day 2nd  \n",
    "Start: 14:30  \n",
    "End: 17:30  \n",
    "\n",
    "### Agenda:\n",
    "- 13:30 - 14:00 - Introduction to NoSQL and MongoDB\n",
    "- 14:00 - 14:30 - Queries and commands mastering\n",
    "- 14:30 - 14:40 - Short break, please be back on time\n",
    "- 14:40 - 15:10 - More on MongoDB\n",
    "- 15:10 - 17:30 - Building sample application with Python and Pymongo\n",
    "\n",
    "### Objectives:\n",
    "- learn fundamentals of MongoDB\n",
    "- learn how to use most common commands and queries\n",
    "- know when to use and when to avoid MongoDB\n",
    "- know how to avoid most common MongoDB gotchas\n",
    "\n",
    "###URLs:\n",
    "- http://docs.mongodb.org/manual/ - MongoDB offical documentation\n",
    "- http://api.mongodb.org/python/current/ - PyMongo driver documentation\n",
    "- http://www.mongodbspain.com/wp-content/uploads/2014/03/MongoDBSpain-CheetSheet.pdf - mongo cheatsheet\n",
    "- http://openmymind.net/mongodb.pdf\n",
    "- http://www.slideshare.net/friedo/data-modeling-examples - schema design examples\n",
    "- http://blog.mongodb.org/post/33700094220/how-mongodbs-journaling-works - how journaling in MongoDB works\n",
    "- https://www.youtube.com/watch?v=9qmIa_m5Y8w - mongostat and mongotop explained"
   ]
  },
  {
   "cell_type": "markdown",
   "metadata": {},
   "source": [
    "# NoSQL motivation\n",
    "\n",
    "- Why do we need NoSQL?\n",
    "- Why RDBS are sometimes not enough?\n"
   ]
  },
  {
   "cell_type": "markdown",
   "metadata": {},
   "source": [
    "### MongoDB performance vs functionality\n",
    "- Scalability\n",
    "- Performance\n",
    "- HA\n",
    "- Fast development\n",
    "\n",
    "<img src=\"http://www.mongothinking.com/wp-content/uploads/2014/06/Knee-Curve_2.png\">"
   ]
  },
  {
   "cell_type": "markdown",
   "metadata": {},
   "source": [
    "# NoSQL vs SQL\n",
    "- Document vs Relation\n",
    "- Available vs Consistent\n",
    "- No transactions vs transactions\n",
    "- Embedding vs joins"
   ]
  },
  {
   "cell_type": "markdown",
   "metadata": {},
   "source": [
    "# Why MongoDB?\n",
    "- Out of the box sharding, that enables horizontal scaling\n",
    "- Out of the box replication and failover\n",
    "- Performance (usually a lot faster than RDBS)\n",
    "- Powerfull (most of the features from RDBS except for transactions and relations)\n",
    "- Fast development\n",
    "- Stability\n",
    "- Official Python driver"
   ]
  },
  {
   "cell_type": "markdown",
   "metadata": {},
   "source": [
    "# Terminology\n",
    "- Database -> Database\n",
    "- Table -> Collection\n",
    "- Row -> Document\n",
    "- Column -> Field\n",
    "- Index -> Index\n",
    "- Join -> Embedded\n",
    "- FK -> Reference\n",
    "- Partition -> Shard"
   ]
  },
  {
   "cell_type": "markdown",
   "metadata": {},
   "source": [
    "# NoSQL vs. SQL schema comparison\n",
    "### SQL\n",
    "<br/>\n",
    "<img src=\"http://img.ctrlv.in/img/15/07/07/559bd2a63e8e4.png\">  \n",
    "<br/>\n",
    "### NoSQL\n",
    "<img src=\"http://img.ctrlv.in/img/15/07/07/559bd2387b87f.png\">\n",
    "- Note Mongo document max size is 16MB"
   ]
  },
  {
   "cell_type": "markdown",
   "metadata": {},
   "source": [
    "# Queries\n",
    "<table>\n",
    "<tr><td>SQL</td><td>MongoDB</td></tr>\n",
    "<tr><td>CREATE TABLE users</td><td>Implicitly created on first insert command</td></tr>\n",
    "<tr><td>ADD / DROP COLUMN x</td><td>Structure not enforced</td></tr>\n",
    "<tr><td>INSERT INTO users (name) VALUES (‘x’)</td><td>db.users.insert({‘name’ : ‘x’})</td></tr>\n",
    "<tr><td>SELECT \\* FROM users</td><td>db.users.find()</td></tr>\n",
    "<tr><td>SELECT \\* FROM users WHERE name = ‘x’</td><td>db.users.find({‘name’ : ‘x’})</td></tr>\n",
    "<tr><td>(ALTER first!) UPDATE users SET age = 1 WHERE name = ‘x’;</td><td>db.users.update({‘name’ : ‘x’}, {$set: {age: 1}}, {multi : true})</td></tr>\n",
    "<tr><td>DELETE FROM users WHERE name = ‘x’</td><td>db.users.remove({‘name’ : ‘x’})</td></tr>\n",
    "<tr><td>UPDATE ...; SELECT ...;</td><td>db.users.findAndModify()</td></tr>\n",
    "</table>\n",
    "\n",
    "\n",
    "\n",
    "\n",
    "\n",
    "\n",
    "\n",
    "\n",
    "\n",
    "\n",
    "\n",
    "\n",
    "\n",
    "\n",
    "\n",
    "\n"
   ]
  },
  {
   "cell_type": "code",
   "execution_count": null,
   "metadata": {
    "collapsed": false
   },
   "outputs": [],
   "source": [
    "# Excercise 1 - mongoimport zips database\n",
    "# Download zips database - http://media.mongodb.org/zips.json\n",
    "$ mongoimport --db summercamp --collection zips --file zips.json"
   ]
  },
  {
   "cell_type": "code",
   "execution_count": null,
   "metadata": {
    "collapsed": false
   },
   "outputs": [],
   "source": [
    "# Exercise 2 - findOne\n",
    "# connects by default to test database\n",
    "$ mongo\n",
    "# switches to summercamp database\n",
    "> use summercamp\n",
    "> db.zips.findOne()"
   ]
  },
  {
   "cell_type": "code",
   "execution_count": null,
   "metadata": {
    "collapsed": false
   },
   "outputs": [],
   "source": [
    "# Exercise 3 - find, filtering fields, sorting, limiting, pretty\n",
    "> db.zips.find()\n",
    "> db.zips.find().pretty()\n",
    "> db.zips.find({city: 'CHICAGO'})\n",
    "> db.zips.find({city: 'CHICAGO'}, {city: 1})\n",
    "> db.zips.find({city: 'CHICAGO'}, {city: 1, _id: 0})\n",
    "> db.zips.find().limit(1).sort({pop: -1})\n",
    "> db.zips.find().limit(2).skip(1).sort({pop: -1})\n"
   ]
  },
  {
   "cell_type": "code",
   "execution_count": null,
   "metadata": {
    "collapsed": true
   },
   "outputs": [],
   "source": [
    "# Exercise 4 - find $ne, $gte, $lte, $regex, $in, $exists, $or\n",
    "> db.zips.find({city: {$ne: 'CHICAGO'}})\n",
    "> db.zips.find({city: {$in: ['NEW YORK', 'CHICAGO']}})\n",
    "> db.zips.find({pop: {$gte: 40}})\n",
    "> db.zips.find({pop: {$lte: 40}})\n",
    "> db.zips.find({city: {$regex: /CHI/}})\n",
    "> db.zips.find({city: 'CHICAGO', pop: {$gt: 100000}})\n",
    "> db.zips.find({$or: [{city: 'CHICAGO'}, {state : \"WA\"}]})"
   ]
  },
  {
   "cell_type": "code",
   "execution_count": null,
   "metadata": {
    "collapsed": true
   },
   "outputs": [],
   "source": [
    "# Exercise 5 - updates, multi, $set, $unset, remove, insert\n",
    "> db.zips.update({city: 'CHICAGO'}, {city: 'WARSAW'})\n",
    "> db.zips.update({city: 'WARSAW'}, {$set: {city: 'CHICAGO'}})\n",
    "> db.zips.update({city: 'CHICAGO'}, {$set: {city: 'WARSAW'}}, {multi: true})\n",
    "> db.zips.update({city: 'WARSAW'}, {$unset: {pop: ''}})\n",
    "> db.zips.insert({city: 'CRACOW'})\n",
    "> db.zips.find({city: 'CRACOW'})\n",
    "> db.zips.remove({city: 'CRACOW'})"
   ]
  },
  {
   "cell_type": "markdown",
   "metadata": {},
   "source": [
    "## Aggregations\n",
    "<img src=\"http://docs.mongodb.org/manual/_images/aggregation-pipeline.png\">"
   ]
  },
  {
   "cell_type": "code",
   "execution_count": null,
   "metadata": {
    "collapsed": true
   },
   "outputs": [],
   "source": [
    "# Exercise 6 - aggregations\n",
    "\n",
    "# Find states with population over 10 mln\n",
    "db.zips.aggregate( [\n",
    "   { $group: { _id: \"$state\", totalPop: { $sum: \"$pop\" } } },\n",
    "   { $match: { totalPop: { $gte: 10000000 } } }\n",
    "] )\n",
    "\n",
    "# Find average city population by state\n",
    "db.zips.aggregate( [\n",
    "   { $group: { _id: { state: \"$state\", city: \"$city\" }, pop: { $sum: \"$pop\" } } },\n",
    "   { $group: { _id: \"$_id.state\", avgCityPop: { $avg: \"$pop\" } } }\n",
    "] )\n",
    "\n",
    "# Find smallest and biggest cities by state. \n",
    "# TIP: $first and $last will get the first and last element of the array\n",
    "# {$sort: {pop: -1 }}"
   ]
  },
  {
   "cell_type": "markdown",
   "metadata": {},
   "source": [
    "## Indexing thoery\n",
    "### Single field index\n",
    "<img src=\"http://docs.mongodb.org/manual/_images/index-ascending.png\">\n",
    "### Compound index\n",
    "<img src=\"http://docs.mongodb.org/manual/_images/index-compound-key.png\">"
   ]
  },
  {
   "cell_type": "markdown",
   "metadata": {},
   "source": [
    "## Explain\n",
    "<code>db.zips.find({city: 'CHICAGO'}).explain()</code>\n",
    "> \n",
    "<code>\n",
    "{\n",
    "  \"cursor\" : \"<Cursor Type and Index>\",\n",
    "  \"isMultiKey\" : <boolean>,\n",
    "  \"n\" : <num>,\n",
    "  \"nscannedObjects\" : <num>,\n",
    "  \"nscanned\" : <num>,\n",
    "  \"nscannedObjectsAllPlans\" : <num>,\n",
    "  \"nscannedAllPlans\" : <num>,\n",
    "  \"scanAndOrder\" : <boolean>,\n",
    "  \"indexOnly\" : <boolean>,\n",
    "  \"nYields\" : <num>,\n",
    "  \"nChunkSkips\" : <num>,\n",
    "  \"millis\" : <num>,\n",
    "  \"indexBounds\" : { <index bounds> },\n",
    "  \"allPlans\" : [\n",
    "                 { \"cursor\" : \"<Cursor Type and Index>\",\n",
    "                   \"n\" : <num>,\n",
    "                   \"nscannedObjects\" : <num>,\n",
    "                   \"nscanned\" : <num>,\n",
    "                   \"indexBounds\" : { <index bounds> }\n",
    "                 },\n",
    "                  ...\n",
    "               ],\n",
    "  \"oldPlan\" : {\n",
    "                \"cursor\" : \"<Cursor Type and Index>\",\n",
    "                \"indexBounds\" : { <index bounds> }\n",
    "              }\n",
    "  \"server\" : \"<host:port>\",\n",
    "  \"filterSet\" : <boolean>\n",
    "}\n",
    "</code>"
   ]
  },
  {
   "cell_type": "code",
   "execution_count": null,
   "metadata": {
    "collapsed": true
   },
   "outputs": [],
   "source": [
    "# Excercise 7 - write JS code to insert 500k documents into summercamp collection\n",
    "# Have 3 fields - name, gender and hairs\n",
    "# Name should be a random string\n",
    "# Gender should be randomly chosen from ['male', 'female']\n",
    "# Hairs should be randomly chosen from ['black', 'brown', 'blond', 'red', 'auburn', 'chestnut', 'white'] \n",
    "# Use Math.floor(Math.random() * some_array.length) to generate array random index\n",
    "# Use Math.random().toString(36).substring(13); to create a random string"
   ]
  },
  {
   "cell_type": "code",
   "execution_count": null,
   "metadata": {
    "collapsed": true
   },
   "outputs": [],
   "source": [
    "# Excerise 7 - indexing (creating, dropping, query explaining), comparing queries w/out indexes vs /w indexes\n",
    "> var name = 'l4i';\n",
    "> db.summercamp.getIndexes()\n",
    "> db.summercamp.find({name: name})\n",
    "> db.summercamp.createIndex({name: 1})\n",
    "> db.summercamp.find({name: name})\n",
    "> db.summercamp.find({name: name}).explain()\n",
    "> db.summercamp.find({hairs: 'blond'}).explain()\n",
    "> db.summercamp.dropIndex({\"name_1\"})\n",
    "> db.summercamp.createIndex({name: 1, hair: 1})\n",
    "> db.summercamp.find({hairs: 'blond'}).explain()\n",
    "> db.summercamp.find({name: name, hairs: 'blond'}).explain()"
   ]
  },
  {
   "cell_type": "markdown",
   "metadata": {},
   "source": [
    "## Profiling"
   ]
  },
  {
   "cell_type": "code",
   "execution_count": null,
   "metadata": {
    "collapsed": true
   },
   "outputs": [],
   "source": [
    "# Exercise 8 - profiling\n",
    "> db.setProfilingLevel(1)\n",
    "> db.setProfilingLevel(2)\n",
    "> db.system.profile.find()\n",
    "\n",
    "# Find last 10 commands for a summercamp collection"
   ]
  },
  {
   "cell_type": "markdown",
   "metadata": {},
   "source": [
    "## Replication #1\n",
    "- A cluster of N servers\n",
    "- Any node can be primary\n",
    "- All writes go to primary\n",
    "- All reads go to primary (by default, can be configured)\n",
    "- Automatic failover\n",
    "- Automatic recovery\n",
    "\n",
    "## Replication #2\n",
    "\n",
    "- Backup\n",
    "- Disaster recovery\n",
    "- Reporting\n",
    "- Increased read capacity  \n",
    "\n",
    "http://docs.mongodb.org/master/MongoDB-replication-guide.pdf"
   ]
  },
  {
   "cell_type": "code",
   "execution_count": null,
   "metadata": {
    "collapsed": true
   },
   "outputs": [],
   "source": [
    "# Exercise todo - setup replica set locally"
   ]
  },
  {
   "cell_type": "markdown",
   "metadata": {},
   "source": [
    "## Write concerns\n",
    "http://docs.mongodb.org/manual/core/write-concern/\n",
    "- Unacknowledged  - {w: 0} - fire and forget\n",
    "- Acknowledged - {w: 1} - default, network, duplicate key and other errors\n",
    "- Journaled - {w:1, j: true} - data can be recovered after a crash\n",
    "- Replica acknowledged - {w: 2}  \n",
    "\n",
    "\n",
    "- Usefull to control Availability vs. Consistancy\n",
    "- Weakest - w: 0 - when to use?\n",
    "- Strongest - w: \"majority\""
   ]
  },
  {
   "cell_type": "markdown",
   "metadata": {},
   "source": [
    "## Read preferences\n",
    "http://docs.mongodb.org/manual/core/read-preference/#read-preference-modes\n",
    "- Helps to take load of from primary\n",
    "- Secondary is used as backup and for failover in company\n",
    "- In theory both primary and secondary should be of the same size but in practise secondary is less powerfull (problems when failover occurs)"
   ]
  },
  {
   "cell_type": "markdown",
   "metadata": {},
   "source": [
    "## Sharding\n",
    "<img src=\"http://docs.mongodb.org/manual/_images/sharded-collection.png\">\n",
    "- CPU/RAM/HDD are limited\n",
    "- Enable horizontal scaling\n",
    "- Out of the box feature\n",
    "- Choosing a shard key is a challange\n",
    "- Once you choose a shard key you cannot modify it\n",
    "\n"
   ]
  },
  {
   "cell_type": "markdown",
   "metadata": {},
   "source": [
    "## Shard key properties\n",
    "- Cardinality (distribution of data)\n",
    "- Write scaling\n",
    "- Query isolation\n",
    "- Reliability"
   ]
  },
  {
   "cell_type": "markdown",
   "metadata": {},
   "source": [
    "## Sharding excercise\n",
    "Imagine you are designing the email inbox system.  \n",
    "Would the \"_id\" would be a good shard key?  \n",
    "What is the most frequent query?  \n",
    "What would your shard key looked like?"
   ]
  },
  {
   "cell_type": "markdown",
   "metadata": {},
   "source": [
    "## Monitoring tools\n",
    "- mongotop - tracks and reports the current reading and writing activity of a MongoDB instance, providing per-collection visibility into use.\n",
    "- mongostat - view live MongoDB performance statistics.\n",
    "- MMS - https://cloud.mongodb.com - company statistics"
   ]
  },
  {
   "cell_type": "markdown",
   "metadata": {},
   "source": [
    "## MongoDB and Python\n",
    "\n",
    "- <a href=\"http://api.mongodb.org/python/current/\">PyMongo</a> - official driver  \n",
    "- <a href=\"http://mongoengine.org/\">Mongoengine</a> - ODM pattern\n",
    "- <a href=\"http://merciless.sourceforge.net/index.html\">Ming</a> - Unit of work pattern"
   ]
  },
  {
   "cell_type": "markdown",
   "metadata": {},
   "source": [
    "## MongoDB - when to use and when avoid\n",
    "- Would you use NoSQL database for financial activities?"
   ]
  },
  {
   "cell_type": "markdown",
   "metadata": {},
   "source": [
    "## MongoDB common gotchas\n",
    "- Field names cannot contain dots (i.e. `.`) or null characters, and they must not start with a dollar sign (i.e. `$`)  \n",
    "- Not using index for `$or` but using for `$in`\n",
    "- Type sensitive queries (quering for integer when strings are stored)\n",
    "- Order of fields matter when quering for embedded document or list field\n",
    "- The total size of an index entry must be less than 1024 bytes\n"
   ]
  },
  {
   "cell_type": "markdown",
   "metadata": {},
   "source": [
    "## Further education\n",
    "- <a href=\"https://university.mongodb.com/courses/M101P/about\">MongoDB for Python developers</a>\n",
    "- <a href=\"https://university.mongodb.com/courses/M102/about\">MongoDB for DBAs</a>\n",
    "- <a href=\"https://university.mongodb.com/courses/M202/about\">MongoDB advanced deployment and operations</a>"
   ]
  }
 ],
 "metadata": {
  "kernelspec": {
   "display_name": "Python 2",
   "language": "python",
   "name": "python2"
  },
  "language_info": {
   "codemirror_mode": {
    "name": "ipython",
    "version": 2
   },
   "file_extension": ".py",
   "mimetype": "text/x-python",
   "name": "python",
   "nbconvert_exporter": "python",
   "pygments_lexer": "ipython2",
   "version": "2.7.6"
  }
 },
 "nbformat": 4,
 "nbformat_minor": 0
}
