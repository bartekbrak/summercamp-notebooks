{
 "cells": [
  {
   "cell_type": "markdown",
   "metadata": {},
   "source": [
    "# tools\n",
    "\n",
    "This page will have snippets to get some tools used in workshops"
   ]
  },
  {
   "cell_type": "markdown",
   "metadata": {},
   "source": [
    "### wi_set_local_rabbit\n",
    "a wrapper around setting rabbit user, permissions and vhosts. Used a lot to create separate throw-away environments in rabbit."
   ]
  },
  {
   "cell_type": "code",
   "execution_count": null,
   "metadata": {
    "collapsed": false
   },
   "outputs": [],
   "source": [
    "# how to get it? (copy and paste in terminal)\n",
    "URL='http://jupyter.dev.devcompany.com/files/summercamp/bash_code/wi_set_local_rabbit?download=1'\n",
    "wget $URL -O ~/bin/wi_set_local_rabbit\n",
    "chmod +x ~/bin/wi_set_local_rabbit\n",
    "# Your path already includes ~/bin so this command will be availabe everywhere"
   ]
  },
  {
   "cell_type": "code",
   "execution_count": null,
   "metadata": {
    "collapsed": true
   },
   "outputs": [],
   "source": [
    "#usage\n",
    "wi_set_local_rabbit jah\n",
    "# this will create user jah, vhost jah and give this user acces to this vhost"
   ]
  }
 ],
 "metadata": {
  "kernelspec": {
   "display_name": "Python 2",
   "language": "python",
   "name": "python2"
  },
  "language_info": {
   "codemirror_mode": {
    "name": "ipython",
    "version": 2
   },
   "file_extension": ".py",
   "mimetype": "text/x-python",
   "name": "python",
   "nbconvert_exporter": "python",
   "pygments_lexer": "ipython2",
   "version": "2.7.6"
  }
 },
 "nbformat": 4,
 "nbformat_minor": 0
}
