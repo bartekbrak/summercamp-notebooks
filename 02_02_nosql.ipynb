{
 "cells": [
  {
   "cell_type": "markdown",
   "metadata": {},
   "source": [
    "### Introduction to MongoDB\n",
    "\n",
    "### Mateusz \n",
    "\n",
    "Date: Tuesday, 7 June 2015, day 2nd  \n",
    "Start: 13:30  \n",
    "End: 17:30  \n",
    "\n",
    "### Agenda:\n",
    "- 13:30 - 14:30 - \n",
    "- 13:40 - 14:15 - The theory behind MongoDB\n",
    "- 14:15 - 14:20 - Short break, please be back on time.\n",
    "- 14:20 - 15:00 - Exercices buiilding your own great thing implementation.\n",
    "- 15:00 - 16:00 - Advanced Great Thing usage and, a small exercise and wrap up.\n",
    "- 16:00 - 17:30 - ?\n",
    "\n",
    "### Objectives:\n",
    "- know when to use and when to avoid MongoDB\n",
    "- learn how to use most common commands and queries\n",
    "- learn how to design a schema\n",
    "- learn how to avoid most common MongoDB gotchas\n",
    "\n",
    "###URLs:\n",
    "- http://docs.mongodb.org/manual/ - offical documentation\n",
    "- http://www.mongodbspain.com/wp-content/uploads/2014/03/MongoDBSpain-CheetSheet.pdf - mongo cheatsheet\n",
    "- http://openmymind.net/mongodb.pdf"
   ]
  },
  {
   "cell_type": "markdown",
   "metadata": {},
   "source": [
    "# Intro\n",
    "\n",
    "https://docs.google.com/presentation/d/1Ii_B4FM1WV6QZewgQS-q_HvQyNgDB5rx7rXxolLUi8Y/edit#slide=id.g3610562c7_12\n"
   ]
  },
  {
   "cell_type": "code",
   "execution_count": null,
   "metadata": {
    "collapsed": true
   },
   "outputs": [],
   "source": [
    "# Excercise 1 - mongoimport some database"
   ]
  },
  {
   "cell_type": "code",
   "execution_count": null,
   "metadata": {
    "collapsed": true
   },
   "outputs": [],
   "source": [
    "# Exercise 2 - findOne, _id must be ObjectId()"
   ]
  },
  {
   "cell_type": "code",
   "execution_count": null,
   "metadata": {
    "collapsed": true
   },
   "outputs": [],
   "source": [
    "# Exercise 3 - find, filtering fields, sorting, limiting, pretty"
   ]
  },
  {
   "cell_type": "code",
   "execution_count": null,
   "metadata": {
    "collapsed": true
   },
   "outputs": [],
   "source": [
    "# Exercise 4 - find $ne, $gte, $lte, $regex, $in, $exists"
   ]
  },
  {
   "cell_type": "code",
   "execution_count": null,
   "metadata": {
    "collapsed": true
   },
   "outputs": [],
   "source": [
    "# Exercise 5 - updates, multi, $set, $unset, remove, insert"
   ]
  },
  {
   "cell_type": "code",
   "execution_count": 1,
   "metadata": {
    "collapsed": true
   },
   "outputs": [],
   "source": [
    "# Exercise 6 - aggreations"
   ]
  },
  {
   "cell_type": "markdown",
   "metadata": {},
   "source": [
    "## Indexing thoery"
   ]
  },
  {
   "cell_type": "code",
   "execution_count": null,
   "metadata": {
    "collapsed": true
   },
   "outputs": [],
   "source": [
    "# Excercise 7 - write JS code to insert 200k documents into some DB"
   ]
  },
  {
   "cell_type": "code",
   "execution_count": null,
   "metadata": {
    "collapsed": true
   },
   "outputs": [],
   "source": [
    "# Excerise 7 - indexing (creating, dropping, query explaining), comparing queries w/out indexes vs /w indexes"
   ]
  },
  {
   "cell_type": "markdown",
   "metadata": {},
   "source": [
    "## Profiling"
   ]
  },
  {
   "cell_type": "code",
   "execution_count": null,
   "metadata": {
    "collapsed": true
   },
   "outputs": [],
   "source": [
    "# Exercise 8 - profiling"
   ]
  },
  {
   "cell_type": "markdown",
   "metadata": {},
   "source": [
    "## Replication"
   ]
  },
  {
   "cell_type": "code",
   "execution_count": null,
   "metadata": {
    "collapsed": true
   },
   "outputs": [],
   "source": [
    "# Exercise todo - setup replica set locally"
   ]
  },
  {
   "cell_type": "markdown",
   "metadata": {},
   "source": [
    "## Write concerns\n",
    "\n",
    "Sterowanie A/C"
   ]
  },
  {
   "cell_type": "markdown",
   "metadata": {},
   "source": [
    "## Read preferences\n",
    "\n",
    "Odciążanie mastera. U nas praktycznie slave jest wykorzystywany jako backup."
   ]
  },
  {
   "cell_type": "markdown",
   "metadata": {},
   "source": [
    "## Sharding\n",
    "\n",
    "Out of the box killer feature"
   ]
  },
  {
   "cell_type": "markdown",
   "metadata": {},
   "source": [
    "## Monitoring tools"
   ]
  },
  {
   "cell_type": "markdown",
   "metadata": {},
   "source": [
    "## MongoDB and Python\n",
    "\n",
    "Pymongo - official driver\n",
    "Mongoengine - ORM\n",
    "Ming"
   ]
  },
  {
   "cell_type": "markdown",
   "metadata": {},
   "source": [
    "## MongoDB - when to use and when avoid"
   ]
  },
  {
   "cell_type": "markdown",
   "metadata": {},
   "source": [
    "## MongoDB common gotchas"
   ]
  }
 ],
 "metadata": {
  "kernelspec": {
   "display_name": "Python 2",
   "language": "python",
   "name": "python2"
  },
  "language_info": {
   "codemirror_mode": {
    "name": "ipython",
    "version": 2
   },
   "file_extension": ".py",
   "mimetype": "text/x-python",
   "name": "python",
   "nbconvert_exporter": "python",
   "pygments_lexer": "ipython2",
   "version": "2.7.6"
  }
 },
 "nbformat": 4,
 "nbformat_minor": 0
}
