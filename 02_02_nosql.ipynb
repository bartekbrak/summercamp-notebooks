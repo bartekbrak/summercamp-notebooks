{
 "cells": [
  {
   "cell_type": "markdown",
   "metadata": {},
   "source": [
    "### Introduction to MongoDB\n",
    "\n",
    "### Mateusz \n",
    "\n",
    "Date: Tuesday, 7 June 2015, day 2nd  \n",
    "Start: 13:30  \n",
    "End: 17:30  \n",
    "\n",
    "### Agenda:\n",
    "- 13:30 - 14:00 - Introduction to NoSQL and MongoDB\n",
    "- 14:00 - 14:30 - Queries and commands mastering\n",
    "- 14:30 - 14:40 - Short break, please be back on time\n",
    "- 14:40 - 15:10 - More on MongoDB\n",
    "- 15:10 - 17:30 - Building sample application with Python and Pymongo\n",
    "\n",
    "### Objectives:\n",
    "- learn fundamentals of MongoDB\n",
    "- learn how to use most common commands and queries\n",
    "- know when to use and when to avoid MongoDB\n",
    "- know how to avoid most common MongoDB gotchas\n",
    "- learn how to design a schema\n",
    "\n",
    "###URLs:\n",
    "- http://docs.mongodb.org/manual/ - MongoDB offical documentation\n",
    "- http://api.mongodb.org/python/current/ - PyMongo driver documentation\n",
    "- http://www.mongodbspain.com/wp-content/uploads/2014/03/MongoDBSpain-CheetSheet.pdf - mongo cheatsheet\n",
    "- http://openmymind.net/mongodb.pdf\n",
    "- http://www.slideshare.net/friedo/data-modeling-examples - schema design examples\n",
    "- http://blog.mongodb.org/post/33700094220/how-mongodbs-journaling-works - how journaling in MongoDB works\n",
    "- https://www.youtube.com/watch?v=9qmIa_m5Y8w - mongostat and mongotop explained"
   ]
  },
  {
   "cell_type": "markdown",
   "metadata": {},
   "source": [
    "# Intro\n",
    "Slides are here:\n",
    "https://docs.google.com/presentation/d/1Ii_B4FM1WV6QZewgQS-q_HvQyNgDB5rx7rXxolLUi8Y/edit#slide=id.g3610562c7_12\n"
   ]
  },
  {
   "cell_type": "markdown",
   "metadata": {},
   "source": [
    "# NoSQL motivation\n",
    "\n",
    "- Why do we need NoSQL?\n",
    "- Why RDBS are sometimes not enough?\n"
   ]
  },
  {
   "cell_type": "markdown",
   "metadata": {},
   "source": [
    "### MongoDB performance vs functionality\n",
    "\n",
    "<img src=\"http://www.mongothinking.com/wp-content/uploads/2014/06/Knee-Curve_2.png\">"
   ]
  },
  {
   "cell_type": "markdown",
   "metadata": {},
   "source": [
    "# NoSQL vs SQL\n",
    "- Document vs Relation\n",
    "- Available vs ACID\n",
    "- No transactions vs transactions\n",
    "- Embedding vs joins"
   ]
  },
  {
   "cell_type": "markdown",
   "metadata": {},
   "source": [
    "# Why MongoDB?\n",
    "- Out of the box sharding, that enables horizontal scaling\n",
    "- Out of the box replication and failover\n",
    "- Performance (usually a lot faster than RDBS)\n",
    "- Powerfull (most of the features from RDBS except for transactions and relations)"
   ]
  },
  {
   "cell_type": "markdown",
   "metadata": {},
   "source": [
    "# Terminology\n",
    "- Table -> Collection\n",
    "- Row -> Document\n",
    "- Index -> Index\n",
    "- Join -> Embedded\n",
    "- FK -> Reference\n",
    "- Partition -> Shard"
   ]
  },
  {
   "cell_type": "markdown",
   "metadata": {},
   "source": [
    "# Schema comparing"
   ]
  },
  {
   "cell_type": "markdown",
   "metadata": {},
   "source": [
    "# Queries"
   ]
  },
  {
   "cell_type": "code",
   "execution_count": null,
   "metadata": {
    "collapsed": false
   },
   "outputs": [],
   "source": [
    "# Excercise 1 - mongoimport zips database\n",
    "# Download zips database - http://media.mongodb.org/zips.json\n",
    "$ mongoimport --db summercamp --collection bios --file zips.json"
   ]
  },
  {
   "cell_type": "code",
   "execution_count": null,
   "metadata": {
    "collapsed": false
   },
   "outputs": [],
   "source": [
    "# Exercise 2 - findOne\n",
    "# connects by default to test database\n",
    "$ mongo\n",
    "# switches to summercamp database\n",
    "> use summercamp\n",
    "> db.zips.findOne()"
   ]
  },
  {
   "cell_type": "code",
   "execution_count": null,
   "metadata": {
    "collapsed": false
   },
   "outputs": [],
   "source": [
    "# Exercise 3 - find, filtering fields, sorting, limiting, pretty\n",
    "> db.zips.find()\n",
    "> db.zips.find().pretty()\n",
    "> db.zips.find({city: 'CHICAGO'})\n",
    "> db.zips.find({city: 'CHICAGO'}, {city: 1})\n",
    "> db.zips.find({city: 'CHICAGO'}, {city: 1, _id: 0})\n",
    "> db.zips.find().limit(1).sort({pop: -1})\n",
    "> db.zips.find().limit(2).skip(1).sort({pop: -1})\n"
   ]
  },
  {
   "cell_type": "code",
   "execution_count": null,
   "metadata": {
    "collapsed": true
   },
   "outputs": [],
   "source": [
    "# Exercise 4 - find $ne, $gte, $lte, $regex, $in, $exists, $or\n",
    "> db.zips.find({city: {$ne: 'CHICAGO'}})\n",
    "> db.zips.find({city: {$in: ['NEW YORK', 'CHICAGO']}})\n",
    "> db.zips.find({loc: {$gte: 40}})\n",
    "> db.zips.find({loc: {$lte: 40}})\n",
    "> db.zips.find({city: {$regex: /CHI/}})\n",
    "> db."
   ]
  },
  {
   "cell_type": "code",
   "execution_count": null,
   "metadata": {
    "collapsed": true
   },
   "outputs": [],
   "source": [
    "# Exercise 5 - updates, multi, $set, $unset, remove, insert"
   ]
  },
  {
   "cell_type": "code",
   "execution_count": null,
   "metadata": {
    "collapsed": true
   },
   "outputs": [],
   "source": [
    "# Exercise 6 - aggreations"
   ]
  },
  {
   "cell_type": "markdown",
   "metadata": {},
   "source": [
    "## Indexing thoery"
   ]
  },
  {
   "cell_type": "code",
   "execution_count": null,
   "metadata": {
    "collapsed": true
   },
   "outputs": [],
   "source": [
    "# Excercise 7 - write JS code to insert 500k documents into some collection\n",
    "# Have 3 fields - name, gender and hairs\n",
    "# Name should be a random string\n",
    "# Gender should be randomly chosen from ['male', 'female']\n",
    "# Hairs should be randomly chosen from ['black', 'brown', 'blond', 'red', 'auburn', 'chestnut', 'white'] \n",
    "# Use Math.floor(Math.random() * some_array.length) to generate array random index\n",
    "# Use Math.random().toString(36).substring(7); to create a random string"
   ]
  },
  {
   "cell_type": "code",
   "execution_count": null,
   "metadata": {
    "collapsed": true
   },
   "outputs": [],
   "source": [
    "# Excerise 7 - indexing (creating, dropping, query explaining), comparing queries w/out indexes vs /w indexes"
   ]
  },
  {
   "cell_type": "markdown",
   "metadata": {},
   "source": [
    "## Profiling"
   ]
  },
  {
   "cell_type": "code",
   "execution_count": null,
   "metadata": {
    "collapsed": true
   },
   "outputs": [],
   "source": [
    "# Exercise 8 - profiling"
   ]
  },
  {
   "cell_type": "markdown",
   "metadata": {},
   "source": [
    "## Replication\n",
    "- Backup\n",
    "- Disaster recovery\n",
    "- Reporting\n",
    "- Increased read capacity"
   ]
  },
  {
   "cell_type": "code",
   "execution_count": null,
   "metadata": {
    "collapsed": true
   },
   "outputs": [],
   "source": [
    "# Exercise todo - setup replica set locally"
   ]
  },
  {
   "cell_type": "markdown",
   "metadata": {},
   "source": [
    "## Write concerns\n",
    "\n",
    "- Usefull to control Availability vs. Consistancy\n",
    "- Weakest - w: 0 - when to use?\n",
    "- Strongest - w: \"majority\""
   ]
  },
  {
   "cell_type": "markdown",
   "metadata": {},
   "source": [
    "## Read preferences\n",
    "- Helps to take load of from primary\n",
    "- Secondary is used as backup and for failover in company\n",
    "- In theory both primary and secondary should be of the same size but in practise secondary is less powerfull (problems when failover occurs)"
   ]
  },
  {
   "cell_type": "markdown",
   "metadata": {},
   "source": [
    "## Sharding\n",
    "- CPU/RAM/HDD are limited\n",
    "- Enable horizontal scaling\n",
    "- Out of the box feature\n",
    "- Choosing a shard key is a challange\n",
    "- Once you choose a shard key you cannot modify it"
   ]
  },
  {
   "cell_type": "markdown",
   "metadata": {},
   "source": [
    "## Monitoring tools\n",
    "- mongotop - tracks and reports the current reading and writing activity of a MongoDB instance, providing per-collection visibility into use.\n",
    "- mongostat - view live MongoDB performance statistics.\n",
    "- MMS - https://cloud.mongodb.com - company statistics"
   ]
  },
  {
   "cell_type": "markdown",
   "metadata": {},
   "source": [
    "## MongoDB and Python\n",
    "\n",
    "- <a href=\"http://api.mongodb.org/python/current/\">PyMongo</a> - official driver  \n",
    "- <a href=\"http://mongoengine.org/\">Mongoengine</a> - ODM pattern\n",
    "- <a href=\"http://merciless.sourceforge.net/index.html\">Ming</a> - Unit of work pattern"
   ]
  },
  {
   "cell_type": "markdown",
   "metadata": {},
   "source": [
    "## MongoDB - when to use and when avoid\n",
    "- Would you use NoSQL database for financial activities?"
   ]
  },
  {
   "cell_type": "markdown",
   "metadata": {},
   "source": [
    "## MongoDB common gotchas\n",
    "- Field names cannot contain dots (i.e. `.`) or null characters, and they must not start with a dollar sign (i.e. `$`)  \n",
    "- Not using index for `$or` but using for `$in`\n",
    "- Type sensitive queries\n",
    "- Order of fields matter when querign for embedded document\n"
   ]
  }
 ],
 "metadata": {
  "kernelspec": {
   "display_name": "Python 2",
   "language": "python",
   "name": "python2"
  },
  "language_info": {
   "codemirror_mode": {
    "name": "ipython",
    "version": 2
   },
   "file_extension": ".py",
   "mimetype": "text/x-python",
   "name": "python",
   "nbconvert_exporter": "python",
   "pygments_lexer": "ipython2",
   "version": "2.7.6"
  }
 },
 "nbformat": 4,
 "nbformat_minor": 0
}
