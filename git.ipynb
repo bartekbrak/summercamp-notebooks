{
 "cells": [
  {
   "cell_type": "code",
   "execution_count": 1,
   "metadata": {
    "collapsed": false
   },
   "outputs": [
    {
     "data": {
      "text/html": [
       "<style>.navbar-brand, .current_kernel_logo {display:none}\n",
       ".container {\n",
       "    width:700px;    \n",
       "}\n",
       ".rendered_html pre {border: 1px solid #cfcfcf; background-color: #f7f7f7; padding:5px}\n",
       ".rendered_html pre, .rendered_html code {background-color: #f7f7f7}\n",
       "div.prompt { /* remove In/Out prompt */\n",
       "    display: none;\n",
       "}\n",
       "div.output_stdout pre {\n",
       "    border: 1px solid #cfcfcf; background-color: #f7f7f7; padding:5px; color: maroon;\n",
       "}\n",
       "/* hide stdout overlay, prevents copying */\n",
       "div.out_prompt_overlay {\n",
       "    display:none !important;\n",
       "}\n",
       "\n",
       "</style>"
      ],
      "text/plain": [
       "<IPython.core.display.HTML object>"
      ]
     },
     "execution_count": 1,
     "metadata": {},
     "output_type": "execute_result"
    }
   ],
   "source": [
    "# notebook preparation, no need to run this\n",
    "from utils import css_from_file\n",
    "css_from_file('css/bartek.css')"
   ]
  },
  {
   "cell_type": "markdown",
   "metadata": {},
   "source": [
    "# git, theory and katas\n",
    "\n",
    "### Bartek \n",
    "\n",
    "Duration: 2h+ (There is probably more material than two hours, but there is no need to do it all)\n",
    "\n",
    "### Objectives:\n",
    "- get enough theory not to die with while learning it and enough to survive\n",
    "- get a hands on experience solving common git problem scenarios\n",
    "- learn about SSH\n",
    "\n",
    "###URLs:\n",
    " - [A successful Git branching model](http://nvie.com/posts/a-successful-git-branching-model/) - most known branching model, we used to use this, now we have modified this a lot but it's still good to read this whole article\n",
    " \n",
    "### Credits\n",
    "- [Jake Vanderplas](https://github.com/jakevdp/2014_fall_ASTR599/blob/master/notebooks/07_GitIntro.ipynb) - awesome ipython notebook materials\n",
    "- [Jens Schauder](http://schauder.github.io/gitkata/) - some git katas\n",
    "- [Wojciech Erbetowski](http://wojtekerbetowski.github.io/git-kata/index.html) - I got my first kata from him, great guy, well worth following\n",
    "- [Rich Dammkoehler](https://github.com/rdammkoehler/git-kata) - more katas"
   ]
  },
  {
   "cell_type": "markdown",
   "metadata": {},
   "source": [
    "### How to get solutions to the exercises?\n",
    "\n",
    "After every exercise there will be a cell that when run will ask you for a number. The mentor will give you the number after you've spent some time solving the exercise. Below is the code to test this function. Run it, First providing any number, then the correct which is **1985**. If you give the right number you will see a legible answer, otherwise gibberish. Yes, this is no proper encryption algorithmw, you can break it in 10 minutes but please don't waste too much time on this :)."
   ]
  },
  {
   "cell_type": "code",
   "execution_count": null,
   "metadata": {
    "collapsed": false
   },
   "outputs": [],
   "source": [
    "from utils import get_solution\n",
    "get_solution(0)"
   ]
  },
  {
   "cell_type": "markdown",
   "metadata": {},
   "source": [
    "# SSH\n",
    "SSH keys are a pair of files on your machine that many programs (ssh, scp, git) use to authenticate you. They replace passwords. The files are by default:\n",
    "\n",
    "    ~/.ssh/id_rsa  # private\n",
    "    ~/.ssh/id_rsa.pub  # public\n",
    "    \n",
    "They can be named differently and you can have many. You most probably don't have them and need to create them now:\n",
    "\n",
    "    ssh-keygen -t rsa -C ''\n",
    "    ll ~/.ssh\n",
    "    cat ~/.ssh/id_rsa.pub\n",
    "    \n",
    "Don't share the private file ever with anyone. Paste the contents of the public one to slack.\n",
    "\n",
    "Now, [go to Gitlab](https://gitlab.devcompany.com/profile/keys/new) and paste the public part there. The title does not matter. Paste the whole key, including initial `ssh-rsa` and final comment (your e-mail address).\n",
    "\n",
    "Mine looks like this:\n",
    "\n",
    "    ssh-rsa AAAAB3NzaC1yc2EAAAADAQABAAABAQDP9u4p6wFJ3a5kkx8g55yxui20HfCbzg3Pt+L5sDHjdsyKk3vdo1U2u/QvmBqfqE+yngnAIjlNpQsIZfLe21rxhBaRByQbuToBxe922iHN9GNGnz6PVB1l7e+ACOjs53VvDrl05gW1YigWEOItB+FAuuLESy8MPVi1SP8hwRhwAKMze3xHFpMQmiy3vFxPLlF5xdstNpNqf/K6I9QaHWofEN1HYE4RdTLIRfd0X4yCJ/5WxB/TK09Mr4qslKP5VgaNUg6gdBg16Ucw6Vdw2U5B7lzJZPXpClPA9bf4EKfqONM2CaSwQKthNjBKu9nsZi4D/lnNHiWOt8I9Lb6AoOFP \n",
    "    \n",
    "Now you will be able to clone our GitLab projects without providing a password, that's convenient. You were only able to clone the `summercamp-notebooks` repo because it was publicly visible. This is slightly insecure and the access is disabled by the time you read this. That brings us to remotes..."
   ]
  },
  {
   "cell_type": "markdown",
   "metadata": {},
   "source": [
    "### Remotes\n",
    "Whenever you clone a repository from a server (gitlab, github, other) you get the whole repository and become a node in the git network. The server you cloned becomes the `origin` to you, the `origin` does not know about you and does not need to. Check the address of your remote for the summercamp repository now:\n",
    "\n",
    "    cd ~/workspace/summercamp-notebooks\n",
    "    git remote -v\n",
    "    \n",
    "output:\n",
    "\n",
    "    origin\thttps://gitlab.devcompany.com/bartek.r/summercamp-notebooks.git (fetch)\n",
    "    origin\thttps://gitlab.devcompany.com/bartek.r/summercamp-notebooks.git (push)\n",
    "    \n",
    "But that's disabled now. Let's get rid of the http one and add a ssh one.\n",
    "\n",
    "    git remote remove origin\n",
    "    git rmeote -v\n",
    "    git remote add origin git@gitlab.devcompany.com:bartek.r/summercamp-notebooks.git\n",
    "    git remote -v\n",
    "    \n",
    "output:\n",
    "\n",
    "    origin\tgit@gitlab.devcompany.com:bartek.r/summercamp-notebooks.git (fetch)\n",
    "    origin\tgit@gitlab.devcompany.com:bartek.r/summercamp-notebooks.git (push)\n",
    "    \n",
    "That's better.\n",
    "\n",
    "It's not very common to have more than one remote but it does happen in complex git scenarios. You might want to pull from github, add commits and push the code to your fork in your private repository. By the way, have a brief look at remote help:\n",
    "\n",
    "    man git remote"
   ]
  },
  {
   "cell_type": "markdown",
   "metadata": {},
   "source": [
    "# git cheatsheet\n",
    "Let's briefly talk about git commands and definitions.\n",
    "\n",
    "\n",
    "### commands\n",
    "\n",
    "    # register file with git, also register changes for committing\n",
    "    git add\n",
    "    # commit the staging area (files you added)\n",
    "    git commit\n",
    "    # push commits to a remote (usually origin)\n",
    "    git push\n",
    "    # get commits from a remote\n",
    "    git pull\n",
    "    # checkout a branch or create a new one\n",
    "    git checkout\n",
    "    # show history of the repository\n",
    "    git log\n",
    "    # show git object, usually a commit by its SHA\n",
    "    git show\n",
    "    # show uncommitted changes\n",
    "    git diff\n",
    "    # put your uncommitted changes to a temporary place to commit them\n",
    "    # later on\n",
    "    git stash\n",
    "    # join two branches, usually a feature to a release branch\n",
    "    git merge\n",
    "    # advanced, take some commits and glue them in a different place \n",
    "    # in the tree, usually before releasing\n",
    "    git rebase\n",
    "\n",
    "You can `man git command` on all of these. Warning. The manual is very precise and technical. It was not written for fresh git adepts. Still, don't shy away from it. Read parts when you get confused and ask other developers what this and that means. They will gladly show off with their git skills. Being a git ninja is a badge of honour they proudly wear. There aren't that many among us but most have reasonable understanding. \n",
    "\n",
    "Git is tough but wherever you go, you will need it. It's highly advisable career-wise to know it well. It will pay off hugely.\n",
    "\n",
    "### definitions\n",
    "\n",
    "- branch: master, develop\n",
    "- references / refs - named pointer to commits SHA: branch, tag\n",
    "- symbolic reference - named pointer to another reference: HEAD, remote\n",
    "- objects, trees... not for know really (I wish I could explain that better)\n"
   ]
  },
  {
   "cell_type": "markdown",
   "metadata": {},
   "source": [
    "# Exercise 1: git log\n",
    "Tell me how often file `00_intro.ipynb` was modified. \n",
    "\n",
    "Hint: Look in `man git log` for lines containing `--name-` and `grep` the output. \n",
    "\n",
    "Hint 2: Can you find a way to show commits that are concerned with that file only? You will have to use command termination marker here: `--`. Google around. "
   ]
  },
  {
   "cell_type": "code",
   "execution_count": null,
   "metadata": {
    "collapsed": false
   },
   "outputs": [],
   "source": [
    "from utils import get_solution\n",
    "get_solution(1)"
   ]
  },
  {
   "cell_type": "markdown",
   "metadata": {},
   "source": [
    "# Visual history\n",
    "Ok, so it's all well using git log but it's not always convenient, here are some other ways:\n",
    "- `tig`, not much better, useful when in a remote server with no X available\n",
    "- `gitk --all`, always available, annoying but the fastest\n",
    "- PyCharm, menu VCS, just register the repository in settings, awesome\n",
    "- [GitLab Network](https://gitlab.devcompany.com/bartek.r/summercamp-notebooks/network/master) - now you should understand why gravatars matter\n",
    "- gitcola, github, [many others](https://git-scm.com/download/gui/linux)"
   ]
  },
  {
   "cell_type": "markdown",
   "metadata": {},
   "source": [
    "# Exercise 2: find SHA using GUI\n",
    "In summercamp repository, find SHA of Szymon's second commit using any GUI, or many. Don't `git log`, please. "
   ]
  },
  {
   "cell_type": "code",
   "execution_count": null,
   "metadata": {
    "collapsed": true
   },
   "outputs": [],
   "source": [
    "from utils import get_solution\n",
    "get_solution(2)"
   ]
  },
  {
   "cell_type": "markdown",
   "metadata": {},
   "source": [
    "# add, commit, push, MR, exercice 3\n",
    "\n",
    "    cd ~/workspace\n",
    "    git clone git@gitlab.devcompany.com:bartek.r/summercamp-whatever.git\n",
    "    cd summercamp-whatever\n",
    "    python run.py\n",
    "    # well, The output is not true\n",
    "    # Let's also run tests, but how? Look in the history, locally or on gitlab\n",
    "    py.test\n",
    "    # now create a branch of your own\n",
    "    git checkout -b feature/YOUR_NAME_correct_the_lie\n",
    "    # modify the lie until you get the tests passing \n",
    "    vim run.py\n",
    "    python run.py\n",
    "    # see if the change happened and tell git to register your change\n",
    "    git status\n",
    "    git add run.py\n",
    "    # check the staging again and commit\n",
    "    git status\n",
    "    # commit and push\n",
    "    git commit\n",
    "    # if you can't push, ask mentor for push permissions\n",
    "    git push\n",
    "    # now go to gitlab and create a new merge request"
   ]
  },
  {
   "cell_type": "code",
   "execution_count": 1,
   "metadata": {
    "collapsed": false
   },
   "outputs": [
    {
     "name": "stdout",
     "output_type": "stream",
     "text": [
      "Magic number for solution: 15\n",
      "\n",
      "diff --git a/run.py b/run.py\n",
      "index 75cd053..4ffe452 100644\n",
      "--- a/run.py\n",
      "+++ b/run.py\n",
      "@@ -1,5 +1,5 @@\n",
      " def main():\n",
      "-    return 'It is a well known fact that SVN beats git!'\n",
      "+    return 'It is a well known fact that git beats SVN!'\n",
      "\n",
      " if __name__ == '__main__':\n",
      "     print main()\n"
     ]
    }
   ],
   "source": [
    "from utils import get_solution\n",
    "get_solution(3)"
   ]
  },
  {
   "cell_type": "markdown",
   "metadata": {},
   "source": [
    "# our workflow, merge vs rebase\n",
    "\n",
    "Our flow is base on [nvie's flow](http://nvie.com/posts/a-successful-git-branching-model/). We noticed that we don't really need develop or release branches in most projects. \n",
    "\n",
    "- `wi-mutter` uses release branches though, why?\n",
    "- what's the use of hotfix branch?\n",
    "\n",
    "### merge or rebase? Pros and cons.\n",
    "`merge` is when you join two branches by creating a merge commit. It's not a normal commit. It usually has no code, just two parents. Whenever there is a conflict, the resolution to the conflict will become a part of the commit. Merge is easy. In a fast paced environment the amount of merge commits can be huge and we don't like that. Merge gives you a conviluted non-linear history with lots of branches(let's see mother). We like `rebase`.\n",
    "\n",
    "`rebase` seems confusing at first but it is even simpler than `merge`. You simply take the list of your commits and glue it on top of some other commit. **This creates new commits, often identical to the previous ones but with new SHAs**. \n",
    "\n",
    "Why new SHAs?\n",
    "\n",
    "With rebase you get a linear master history. Much easier to read for developers. It has some downsides too but they are small (actually a non-linear linear history). \n",
    "\n",
    "### Interactive rebase: `rebase -i`\n",
    "\n",
    "Let's demo an interactive rebase based on adding a feature to wi-tui."
   ]
  },
  {
   "cell_type": "markdown",
   "metadata": {},
   "source": [
    "#Exercise 4: rebase somefin\n",
    "\n",
    "go to `summercamp-whatever` and switch to `i_shall_rebase` branch.\n",
    "There are 4 commits, first two may be OK but they can be squashed together - tests should go together with the feature. 3rd one is fine. 4th one needs to be removed completely. Go! :)\n",
    "\n",
    "Whoever pushes first get's a virtual white glove pat on the back. What happens to those who want to push afterwards?  "
   ]
  },
  {
   "cell_type": "markdown",
   "metadata": {},
   "source": [
    "# Take a break, \n",
    "\n",
    "you've learned a lot, 452 hours more and git will be easy\n",
    "\n",
    "<img src=\"http://streemo.pl/Image/543587_m.jpg\" width=200>\n",
    "\n",
    "The stuff below is for another day."
   ]
  },
  {
   "cell_type": "code",
   "execution_count": 3,
   "metadata": {
    "collapsed": true
   },
   "outputs": [],
   "source": [
    "# katas will go here\n",
    "# bisect kata + 4 others"
   ]
  },
  {
   "cell_type": "markdown",
   "metadata": {},
   "source": [
    "# Extra topics to talk about\n",
    "- What's the difference between a fast-forward and a non-fast-forward merge? Which is default? Under what conditions a fast-forward merge is possible?\n",
    "- Delete a remote branch. Explain how this affects those who cloned this branch.\n",
    "- Rename a branch."
   ]
  },
  {
   "cell_type": "markdown",
   "metadata": {},
   "source": [
    "# extra reading\n",
    "- [Atlassian approach to the Git workflow](https://www.atlassian.com/git/tutorials/comparing-workflows/gitflow-workflow/) (a part of Atlassian's [Become a git guru](https://www.atlassian.com/git/tutorials/))\n",
    "- [A note about Git commit messages](http://tbaggery.com/2008/04/19/a-note-about-git-commit-messages.html)\n",
    "- [Official git reference](https://git-scm.com/documentation) - the path to become a real git guru"
   ]
  },
  {
   "cell_type": "code",
   "execution_count": null,
   "metadata": {
    "collapsed": true
   },
   "outputs": [],
   "source": []
  }
 ],
 "metadata": {
  "kernelspec": {
   "display_name": "Python 2",
   "language": "python",
   "name": "python2"
  },
  "language_info": {
   "codemirror_mode": {
    "name": "ipython",
    "version": 2
   },
   "file_extension": ".py",
   "mimetype": "text/x-python",
   "name": "python",
   "nbconvert_exporter": "python",
   "pygments_lexer": "ipython2",
   "version": "2.7.6"
  }
 },
 "nbformat": 4,
 "nbformat_minor": 0
}
