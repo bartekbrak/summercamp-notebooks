{
 "cells": [
  {
   "cell_type": "markdown",
   "metadata": {},
   "source": [
    "# TODO:\n",
    "* Add some pictures!\n",
    "* How to install wimq?"
   ]
  },
  {
   "cell_type": "markdown",
   "metadata": {},
   "source": [
    "# WIMQ\n",
    "\n",
    "### Szymon \n",
    "\n",
    "- Date: Thrursday, 9 July 2015, day 4th.\n",
    "- Duration: 1h\n",
    "\n",
    "### Agenda:\n",
    "- 11:00 - 11:20 - Intro, our use cases and design.\n",
    "- 11:20 - 11:50 - Your own worker.\n",
    "- 11:50 - 12:00 - Conclusion.\n",
    "\n",
    "\n",
    "### Objectives:\n",
    "- understand wimq's rationale, structure and common usage\n",
    "- know how to change worker's behaviour via parameters\n",
    "- get hands-on experience creating your own worker\n",
    "\n",
    "###URLs:\n",
    "- http://doc.devcompany.com/wi-mq/master/index.html - offical documentation\n",
    "- https://gitlab.devcompany.com/libraries/wi-mq - wimq source\n"
   ]
  },
  {
   "cell_type": "markdown",
   "metadata": {},
   "source": [
    "# Intro\n",
    "\n",
    "* What is wimq?\n",
    "    * Messaging library for company apps.\n",
    "\n",
    "* What is a producer and consumer?\n",
    "    * Producer creates messages and publishes them to a queue. \n",
    "    * Consumer consumes the message from the queue it is subscribed to and performs the task.\n",
    "    * Two main types: producer/consumer or consumer only.\n",
    "\n",
    "* Use cases\n",
    "    * Background tasks -> sending emails, tasks that don't get executed immediately.\n",
    "    * Concurrency -> multiple threads and processes consuming from a queue.\n",
    "    * Pipes -> connection between two projects that don't share codebase.\n",
    "\n",
    "* Task structure\n",
    "    * Queue name (= worker name) -> producer knows where to publish\n",
    "    * Data (kwargs)\n",
    "    * TTL\n",
    "\n",
    "* Locking\n",
    "    * MD5 is constructed from task to lock memcached\n",
    "    * Prevents duplicates\n",
    "    * Less db access\n",
    "    * Lock -> Publish -> Queue -> Consume -> Unlock"
   ]
  },
  {
   "cell_type": "markdown",
   "metadata": {},
   "source": [
    "# WI Example:\n",
    "\n",
    "* eBay requests translation of `OriginalItem`\n",
    "* `OI` gets translated\n",
    "* Translator changes item state to 'T'\n",
    "* Producer periodically fetches all items with STATE = 'T', publishes their ids to a queue\n",
    "* Items from the queue are consumed by multiple consumers that list the item and set its state to 'L'\n"
   ]
  },
  {
   "cell_type": "code",
   "execution_count": null,
   "metadata": {
    "collapsed": true
   },
   "outputs": [],
   "source": [
    "#Sample worker\n",
    "\n",
    "# -*- coding: utf-8 -*-\n",
    "import datetime\n",
    "import logging\n",
    "\n",
    "from portal.lib import mq\n",
    "from portal.models.user import User\n",
    "from portal.models.ebay.account import EbayAccount\n",
    "from portal.services import TokenEnabler\n",
    "\n",
    "\n",
    "log = logging.getLogger(__name__)\n",
    "\n",
    "\n",
    "class AccountsReestablisherWorker(mq.BaseDBWorker):\n",
    "    run_each = datetime.timedelta(hours=1)\n",
    "    class_to_consume = EbayAccount\n",
    "    GROUP = mq.BaseDBWorker.WORKER_GROUP_LIGHT\n",
    "\n",
    "    TOKEN_ENABLER = TokenEnabler()\n",
    "\n",
    "    def _get_query(self, session, o, id=None):\n",
    "        filters = [\n",
    "            User.ebay_state != User.ES_DELETED,\n",
    "            EbayAccount.token_enabled == False,\n",
    "            EbayAccount.enabled == True,\n",
    "        ]\n",
    "\n",
    "        if id:\n",
    "            filters.append(EbayAccount.id == id)\n",
    "        q = session().query(o).join(User).filter(*filters).distinct()\n",
    "        return q\n",
    "\n",
    "    def consume(self, **kwargs):\n",
    "        account = kwargs.pop('_object_to_consume')\n",
    "        try:\n",
    "            account.ebay._get_user(False)\n",
    "            self.TOKEN_ENABLER.enable(account)\n",
    "            log.debug(\"Account %s was reestablished\", account.id)\n",
    "        except:\n",
    "            pass\n",
    "\n",
    "mq.app.register_worker(AccountsReestablisherWorker)\n"
   ]
  },
  {
   "cell_type": "markdown",
   "metadata": {},
   "source": [
    "# More:\n",
    "\n",
    "* How to customize worker beahaviour?\n",
    "\n",
    "    * Queue definition:\n",
    "        * Name\n",
    "        * Durable # keep messages after rabbit server restart\n",
    "        * DeadLetter\n",
    "    * Lock config:\n",
    "        * TTL\n",
    "        * Lock name\n",
    "    * Producer:\n",
    "        * run_each\n",
    "        * Working hours\n",
    "        * Callable\n",
    "    * Consumer:\n",
    "        * Threads\n",
    "        * Callable\n",
    "    * Serializer:\n",
    "        * Serialize\n",
    "        * Deserialize\n",
    "\n",
    "* Adding tasks to queue\n",
    "\n",
    "    * Produce data from db, publish afterwards\n",
    "    * Publish straight to queue (called directly or after Produce)\n",
    "\n",
    "* Handling failures\n",
    "        \n",
    "    * Producer -> Dead Letter Queue -> Retry -> Archive(Finalize)\n",
    "    * Consumer -> Fallback (for example save to db for later) -> Republish\n"
   ]
  },
  {
   "cell_type": "code",
   "execution_count": null,
   "metadata": {
    "collapsed": true
   },
   "outputs": [],
   "source": [
    "#Install and setup\n",
    "\n",
    "$cd summercamp-notebooks/wimq_extra_code\n",
    "\n",
    "#In virtualenv:\n",
    "$pip install ~/workspace/wimq-1.4.0.tar.gz\n",
    "$python setup.py install\n",
    "\n",
    "#Rabbit setup?\n",
    "$. ~/workspace/wi_set_local_rabbit NAME\n",
    "\n",
    "#main.py\n",
    "wimq.user = NAME\n",
    "wimq.password = NAME\n",
    "wimq.vhost = NAME\n"
   ]
  },
  {
   "cell_type": "code",
   "execution_count": null,
   "metadata": {
    "collapsed": true
   },
   "outputs": [],
   "source": [
    "# Exercise 1: create a super basic worker\n",
    "\n",
    "import wimq\n",
    "\n",
    "class WorkerX(wimq.BaseWorker):\n",
    "\n",
    "    # need self.make_response(number=x)\n",
    "    def produce(self):\n",
    "        pass\n",
    "    \n",
    "    def consume(self, **kwargs):\n",
    "        pass\n"
   ]
  },
  {
   "cell_type": "code",
   "execution_count": null,
   "metadata": {
    "collapsed": true
   },
   "outputs": [],
   "source": [
    "#Running workers locally:\n",
    "\n",
    "$wimq sample_project list_workers\n",
    "$wimq sample_project run_producers\n",
    "$wimq sample_project run_consumers\n",
    "\n",
    "#Monitor worker behaviour\n",
    "http://localhost:15672/"
   ]
  },
  {
   "cell_type": "code",
   "execution_count": null,
   "metadata": {
    "collapsed": true
   },
   "outputs": [],
   "source": [
    "# Excercise 2: Complicate things\n",
    "\n",
    "run_each = timedelta(seconds=x)\n",
    "threads = 2\n",
    "USE_DEAD_LETTER = True"
   ]
  },
  {
   "cell_type": "code",
   "execution_count": null,
   "metadata": {
    "collapsed": true
   },
   "outputs": [],
   "source": [
    "# Excercise 3: What does this worker do?\n",
    "\n",
    "import datetime\n",
    "import logging\n",
    "\n",
    "from portal.lib import mq\n",
    "from portal.lib.locking.semaphore import AbortableSemaphore\n",
    "from portal.models import Email\n",
    "from portal.utils.email_smtp_sender import (\n",
    "    PortalEmailSender,\n",
    "    smtp_server_factory,\n",
    ")\n",
    "\n",
    "\n",
    "log = logging.getLogger(__name__)\n",
    "\n",
    "\n",
    "class PortalEmailSenderWorker(mq.BaseDBWorker):\n",
    "    run_each = datetime.timedelta(minutes=5)\n",
    "    class_to_consume = Email\n",
    "    GROUP = mq.BaseDBWorker.WORKER_GROUP_LIGHT\n",
    "    threads = 1\n",
    "    sender = PortalEmailSender(smtp_server_factory)\n",
    "\n",
    "    def __init__(self, app):\n",
    "        super(PortalEmailSenderWorker, self).__init__(app)\n",
    "        config_provider = app.get_config_provider(self.__class__)\n",
    "        self.lock = AbortableSemaphore(\n",
    "            'portal_email_sender',\n",
    "            hosts=[config_provider['locker_host']],\n",
    "        )\n",
    "\n",
    "    def _get_query(self, session, entity, id=None):\n",
    "        filters = [\n",
    "            self.class_to_consume.sent == False,\n",
    "            self.class_to_consume.tries <= Email.MAX_TRIES_PER_EMAIL,\n",
    "            self.class_to_consume.ets_id.is_(None),\n",
    "            self.class_to_consume.dont_send == False,\n",
    "        ]\n",
    "        if id:\n",
    "            filters.append(self.class_to_consume.id == id)\n",
    "        return session().query(entity).filter(*filters)\n",
    "\n",
    "    def consume(self, **kwargs):\n",
    "        email = kwargs.pop('_object_to_consume')\n",
    "        log.debug('Sending mail %s' % email.id)\n",
    "        with self.lock:\n",
    "            self.sender.log_in()\n",
    "            email.try_to_send_using_sender(self.sender)\n",
    "            self.sender.quit()\n",
    "\n",
    "\n",
    "mq.app.register_worker(PortalEmailSenderWorker)\n"
   ]
  },
  {
   "cell_type": "markdown",
   "metadata": {},
   "source": [
    "# todo\n",
    "\n",
    "# Conclusion"
   ]
  }
 ],
 "metadata": {
  "kernelspec": {
   "display_name": "Python 2",
   "language": "python",
   "name": "python2"
  },
  "language_info": {
   "codemirror_mode": {
    "name": "ipython",
    "version": 2
   },
   "file_extension": ".py",
   "mimetype": "text/x-python",
   "name": "python",
   "nbconvert_exporter": "python",
   "pygments_lexer": "ipython2",
   "version": "2.7.6"
  }
 },
 "nbformat": 4,
 "nbformat_minor": 0
}
