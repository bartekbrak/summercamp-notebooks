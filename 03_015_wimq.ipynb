{
 "cells": [
  {
   "cell_type": "markdown",
   "metadata": {},
   "source": [
    "# WIMQ\n",
    "\n",
    "### Szymon \n",
    "\n",
    "- Date: Wednesday, 8 July 2015, day 3rd.\n",
    "- Duration: 1h\n",
    "\n",
    "### Agenda:\n",
    "- 11:00 - 11:20 - Intro, our use cases and design.\n",
    "- 11:20 - 11:50 - Your own worker.\n",
    "- 11:50 - 12:00 - Conclusion.\n",
    "\n",
    "\n",
    "### Objectives:\n",
    "- understand wimq's rationale, structure and common usage\n",
    "- know how to change worker's behaviour via parameters\n",
    "- get hands-on experience creating your own worker\n",
    "\n",
    "###URLs:\n",
    "- http://doc.devcompany.com/wi-mq/master/index.html - offical documentation\n",
    "- https://gitlab.devcompany.com/libraries/wi-mq - wimq source\n"
   ]
  },
  {
   "cell_type": "markdown",
   "metadata": {},
   "source": [
    "# Intro\n",
    "\n",
    "* What is wimq?\n",
    "\n",
    "* What is a producer and consumer?\n",
    "\n",
    "* Use cases\n",
    "\n",
    "* Sample worker"
   ]
  },
  {
   "cell_type": "markdown",
   "metadata": {},
   "source": [
    "# Exercise 1: create super basic worker"
   ]
  },
  {
   "cell_type": "markdown",
   "metadata": {},
   "source": [
    "# More: parametrize workers\n",
    "\n",
    "* How to customize worker beahaviour?\n",
    "    * republishing\n",
    "    * dead letter\n",
    "    * threads\n",
    "    * ...\n",
    "* Adding taksks to queue\n",
    "\n"
   ]
  },
  {
   "cell_type": "markdown",
   "metadata": {},
   "source": [
    "# Conclusion\n",
    "\n",
    "If you were two rememeber one thing it would be this: never emacs via sendmail.\n",
    "\n",
    "Brief recap of what we did:\n",
    "- thing one\n",
    "- thing two\n",
    "- thing three\n",
    "\n",
    "### More useful stuff:\n",
    "\n",
    "- [Python C API](http://docs.python.org/2/c-api/): Python is implemented in C, and you can actually write C code which will compile to a Python module!  This is extremely low-level, and I would only recommend it if you enjoy pain (see Dan Foreman-Mackie's [blog post](http://dan.iel.fm/posts/python-c-extensions/) for a concise-as-possible introduction)\n",
    "- [SWIG](http://www.swig.org/): the Simplified Wrapper Interface Generator, can generate wrappers from a variety of low-level languages to a variety of high-level languages.  It's used heavily by LSST and other projects.\n",
    "- [Weave](http://docs.scipy.org/doc/scipy/reference/tutorial/weave.html): included in SciPy, weave is a method of putting C snippets within a Python program.  It's largely been superseded by Cython in practice.\n",
    "- [PyPy](http://pypy.org/): a JIT compiler for Python written in Python.  PyPy doesn't support the C backend which most scientific tools rely on, so it's not extremely useful for scientific computing.\n",
    "\n"
   ]
  }
 ],
 "metadata": {
  "kernelspec": {
   "display_name": "Python 2",
   "language": "python",
   "name": "python2"
  },
  "language_info": {
   "codemirror_mode": {
    "name": "ipython",
    "version": 2
   },
   "file_extension": ".py",
   "mimetype": "text/x-python",
   "name": "python",
   "nbconvert_exporter": "python",
   "pygments_lexer": "ipython2",
   "version": "2.7.6"
  }
 },
 "nbformat": 4,
 "nbformat_minor": 0
}
