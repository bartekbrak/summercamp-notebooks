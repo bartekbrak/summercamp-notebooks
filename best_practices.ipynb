{
 "cells": [
  {
   "cell_type": "markdown",
   "metadata": {},
   "source": [
    "link to Ignacy's presentation: MISSING"
   ]
  },
  {
   "cell_type": "code",
   "execution_count": 2,
   "metadata": {
    "collapsed": true
   },
   "outputs": [],
   "source": [
    "class Article(object):\n",
    "\n",
    "    def __init__(self, title, body):\n",
    "        self.title = title\n",
    "        self.body = body\n",
    "\n",
    "class HTMLFormatter(object):\n",
    "\n",
    "    def __init__(self, header_level):\n",
    "        self._header_level = header_level\n",
    "\n",
    "    def format(self, article):\n",
    "        title = self._format_title(article.title)\n",
    "        body = self._format_body(article.body)\n",
    "        return '{}\\n{}'.format(title, body)\n",
    "\n",
    "    def _format_title(self, title):\n",
    "        return '<h{level}>{title}</h{level}>'.format(\n",
    "            level=self._header_level,\n",
    "            title=title,\n",
    "        )\n",
    "\n",
    "    def _format_body(self, body):\n",
    "        lines = body.split('\\n\\n')\n",
    "        paragraphs = ['<p>{}</p>'.format(line) for line in lines]\n",
    "        return '\\n'.join(paragraphs)\n"
   ]
  },
  {
   "cell_type": "code",
   "execution_count": null,
   "metadata": {
    "collapsed": true
   },
   "outputs": [],
   "source": []
  }
 ],
 "metadata": {
  "kernelspec": {
   "display_name": "Python 2",
   "language": "python",
   "name": "python2"
  },
  "language_info": {
   "codemirror_mode": {
    "name": "ipython",
    "version": 2
   },
   "file_extension": ".py",
   "mimetype": "text/x-python",
   "name": "python",
   "nbconvert_exporter": "python",
   "pygments_lexer": "ipython2",
   "version": "2.7.6"
  }
 },
 "nbformat": 4,
 "nbformat_minor": 0
}
