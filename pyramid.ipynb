{
 "cells": [
  {
   "cell_type": "markdown",
   "metadata": {},
   "source": [
    "# Pyramid - open sourced web framework\n",
    "\n",
    "### Paweł \n",
    "\n",
    "Date: Tuesday, 7 June 2015, day 2nd.\n",
    "Duration: 1.5h\n",
    "\n",
    "### Agenda:\n",
    "- 16:00 - 16:30 - The theory behind Pyramid.\n",
    "- 16:30 - 16:40 - Set-up. virtualenv.\n",
    "- 16:40 - 17:30 - Worksop\n",
    "\n",
    "### Objectives:\n",
    "- learn what is MVC model\n",
    "- learn how to build a web service using web framework\n",
    "\n",
    "###URLs:\n",
    "- https://readthedocs.org/projects/python/ - offical python documentation\n",
    "- http://goo.gl/dqVDxo - pyramid tutorial"
   ]
  },
  {
   "cell_type": "markdown",
   "metadata": {},
   "source": [
    "# Intro\n",
    "\n",
    "A web application framework is a software framework that is designed to support the development of dynamic websites, web applications, web services and web resources. Many frameworks provide libraries for database access, templating frameworks and session management, and they often promote code reuse.\n",
    "\n",
    "Pyramid is a small, fast, down-to-earth Python web framework. It is developed as part of the Pylons Project. It is licensed under a BSD-like license.\n"
   ]
  },
  {
   "cell_type": "markdown",
   "metadata": {},
   "source": [
    "## Set up virtual environment\n",
    "\n",
    "Let's create python 2.7 virtual environment for our project and activate it to work in it's scope:\n",
    "\n",
    "* virtualenv-2.7 --no-site-packages\n",
    "* summer_camp_venv\n",
    "* cd summer_camp_venvsource bin/activate\n",
    "\n",
    "## Install pyramid package\n",
    "\n",
    "* pip install pyramid==\"1.5.7\"\n",
    "\n",
    "## Creating new project using scaffold\n",
    "\n",
    "* pcreate -s starter summer_camp_pyramid\n",
    "\n",
    "To install a newly created project for development, you should cd to the newly created project directory and use the Python interpreter invoke the command:\n",
    "* python setup.py develop\n",
    "\n",
    "The setup.py file is a setuptools setup file. It is meant to be run directly from the command line to perform a variety of functions, such as testing, packaging, and distributing your application.\n",
    "\n",
    "To doublecheck if everything were install well you could test newly created project:\n",
    "* python setup.py test -q\n",
    "\n",
    "Looking at what pcreate generated in our working directory we can see that there are two directories:\n",
    "- static (to keep static files like images, css, js)\n",
    "- templates (to keep result pages rendered at the end of the request, e.g. html files)\n",
    "and two files (except __init__.py):\n",
    "- tests.py (basic tests template)\n",
    "- views.py (to build the logic that will be invoked on each request)\n",
    "\n",
    "These are purely conventions established by the scaffold: Pyramid doesn't insist that you name things in any particular way. However, it's generally a good idea to follow Pyramid standards for naming, so that other Pyramid developers can get up to speed quickly on your code when you need help."
   ]
  },
  {
   "cell_type": "markdown",
   "metadata": {},
   "source": [
    "## Fire it up\n",
    "\n",
    "* ~/ENV/bin/pserve development.ini\n",
    "\n",
    "Now you can check it in the browser: http://0.0.0.0:6543\n",
    "\n",
    "## development.ini and production.ini\n",
    "\n",
    "The development.ini file is a PasteDeploy configuration file. Its purpose is to specify an application to run when you invoke pserve, as well as the deployment settings, logging, global variable etc. provided to that application.\n",
    "\n",
    "#What's under the hood\n",
    "\n",
    "## __init__.py\n",
    "\n",
    "We need a small Python module that configures our application and which advertises an entry point for use by our PasteDeploy .ini file. This is the file named __init__.py\n",
    "\n",
    "PasteDeploy is a library used by Pyramid which makes it possible to configure WSGI components together declaratively within an .ini file. \n",
    "\n",
    "The Web Server Gateway Interface (WSGI) is a specification for simple and universal interface between web servers and web applications or frameworks for the Python programming language. \n",
    "\n",
    "## views.py\n",
    "\n",
    "Real example.\n"
   ]
  },
  {
   "cell_type": "code",
   "execution_count": null,
   "metadata": {
    "collapsed": true
   },
   "outputs": [],
   "source": []
  }
 ],
 "metadata": {
  "kernelspec": {
   "display_name": "Python 2",
   "language": "python",
   "name": "python2"
  },
  "language_info": {
   "codemirror_mode": {
    "name": "ipython",
    "version": 2
   },
   "file_extension": ".py",
   "mimetype": "text/x-python",
   "name": "python",
   "nbconvert_exporter": "python",
   "pygments_lexer": "ipython2",
   "version": "2.7.6"
  }
 },
 "nbformat": 4,
 "nbformat_minor": 0
}
